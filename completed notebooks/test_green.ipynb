{
 "cells": [
  {
   "cell_type": "code",
   "execution_count": 1,
   "metadata": {},
   "outputs": [],
   "source": [
    "import os\n",
    "import cv2\n",
    "import numpy as np\n",
    "import torch\n",
    "from torch import nn\n",
    "from torch.autograd import Variable\n",
    "import torchvision\n",
    "import torchvision.datasets as dsets\n",
    "import torchvision.transforms as transforms\n",
    "import utils\n",
    "from discriminators import define_Dis\n",
    "from generators import define_Gen"
   ]
  },
  {
   "cell_type": "code",
   "execution_count": 2,
   "metadata": {
    "tags": []
   },
   "outputs": [],
   "source": [
    "crop_height = 128\n",
    "crop_width = 128\n",
    "dataset_dir = './datasets/sketch2pokemon'\n",
    "checkpoint_dir = './checkpoints/sketch2pokemon'\n",
    "checkpoint_name = 'latest'\n",
    "results_dir = './results'\n",
    "batch_size = 1\n",
    "ngf = 64\n",
    "norm = 'instance'\n",
    "no_dropout = False\n",
    "gpu_ids = [0]#[0]\n",
    "\n",
    "test_length = 5"
   ]
  },
  {
   "cell_type": "code",
   "execution_count": 3,
   "metadata": {
    "jupyter": {
     "source_hidden": true
    }
   },
   "outputs": [
    {
     "data": {
      "text/plain": [
       "{'trainA': './datasets/sketch2pokemon\\\\ltrainA',\n",
       " 'trainB': './datasets/sketch2pokemon\\\\ltrainB',\n",
       " 'testA': './datasets/sketch2pokemon\\\\ltestA',\n",
       " 'testB': './datasets/sketch2pokemon\\\\ltestB'}"
      ]
     },
     "execution_count": 3,
     "metadata": {},
     "output_type": "execute_result"
    }
   ],
   "source": [
    "utils.create_link(dataset_dir)"
   ]
  },
  {
   "cell_type": "code",
   "execution_count": 4,
   "metadata": {
    "tags": []
   },
   "outputs": [
    {
     "name": "stdout",
     "output_type": "stream",
     "text": [
      "Network initialized with weights sampled from N(0,0.02).\n",
      "Network initialized with weights sampled from N(0,0.02).\n",
      "------------Number of Parameters---------------\n",
      "[Network Gab] Total number of parameters : 11.378 M\n",
      "[Network Gba] Total number of parameters : 11.378 M\n",
      "-----------------------------------------------\n"
     ]
    }
   ],
   "source": [
    "transform = transforms.Compose(\n",
    "    [transforms.Resize((crop_height,crop_width)),\n",
    "        transforms.ToTensor(),\n",
    "        transforms.Normalize(mean=[0.5, 0.5, 0.5], std=[0.5, 0.5, 0.5])])\n",
    "\n",
    "dataset_dirs = utils.get_testdata_link(dataset_dir)\n",
    "\n",
    "a_test_data = dsets.ImageFolder(dataset_dirs['testA'], transform=transform)\n",
    "b_test_data = dsets.ImageFolder(dataset_dirs['testB'], transform=transform)\n",
    "\n",
    "\n",
    "a_test_loader = torch.utils.data.DataLoader(a_test_data, batch_size=batch_size, shuffle=False, num_workers=4) # set shuffle to false for testing\n",
    "b_test_loader = torch.utils.data.DataLoader(b_test_data, batch_size=batch_size, shuffle=False, num_workers=4)\n",
    "\n",
    "Gab = define_Gen(input_nc=3, output_nc=3, ngf=ngf, netG='resnet_9blocks', norm=norm, \n",
    "                                                use_dropout= not no_dropout, gpu_ids=gpu_ids)\n",
    "Gba = define_Gen(input_nc=3, output_nc=3, ngf=ngf, netG='resnet_9blocks', norm=norm, \n",
    "                                                use_dropout= not no_dropout, gpu_ids=gpu_ids)\n",
    "\n",
    "utils.print_networks([Gab,Gba], ['Gab','Gba'])"
   ]
  },
  {
   "cell_type": "code",
   "execution_count": 5,
   "metadata": {
    "jupyter": {
     "source_hidden": true
    },
    "tags": []
   },
   "outputs": [
    {
     "name": "stdout",
     "output_type": "stream",
     "text": [
      " [*] Loading checkpoint from ./checkpoints/sketch2pokemon/latest.ckpt succeed!\n"
     ]
    }
   ],
   "source": [
    "try:\n",
    "    ckpt = utils.load_checkpoint('%s/%s.ckpt' % (checkpoint_dir, checkpoint_name))\n",
    "    Gab.load_state_dict(ckpt['Gab'])\n",
    "    Gba.load_state_dict(ckpt['Gba'])\n",
    "except:\n",
    "    print(' [*] No checkpoint!')"
   ]
  },
  {
   "cell_type": "code",
   "execution_count": 6,
   "metadata": {},
   "outputs": [],
   "source": [
    "a_train_loader = torch.utils.data.DataLoader(dsets.ImageFolder(utils.get_traindata_link(dataset_dir)['trainA'], transform=transform), \n",
    "                                                batch_size=batch_size, shuffle=False, num_workers=4)\n",
    "b_train_loader = torch.utils.data.DataLoader(dsets.ImageFolder(utils.get_traindata_link(dataset_dir)['trainB'], transform=transform), \n",
    "                                                batch_size=batch_size, shuffle=False, num_workers=4)"
   ]
  },
  {
   "cell_type": "code",
   "execution_count": 7,
   "metadata": {},
   "outputs": [],
   "source": [
    "def readImage(path):\n",
    "    return cv2.imread(path)\n",
    "\n",
    "def computeMetrics(imga, imgb, isPrint=False):\n",
    "    hsv_base = cv2.cvtColor(imga, cv2.COLOR_BGR2HSV)\n",
    "    hsv_test1 = cv2.cvtColor(imgb, cv2.COLOR_BGR2HSV)\n",
    "    h_bins = 50\n",
    "    s_bins = 60\n",
    "    v_bins = 60\n",
    "    histSize = [h_bins, s_bins, v_bins]\n",
    "    # hue varies from 0 to 179, saturation from 0 to 255, value from 0 to 255\n",
    "    h_ranges = [0, 180]\n",
    "    s_ranges = [0, 256]\n",
    "    v_ranges = [0, 256]\n",
    "    ranges = h_ranges + s_ranges + v_ranges# concat lists\n",
    "    # Use 0,1,2nd channels\n",
    "    channels = [0, 1, 2]\n",
    "    hist_base = cv2.calcHist([hsv_base], channels, None, histSize, ranges, accumulate=False)\n",
    "    cv2.normalize(hist_base, hist_base, alpha=0, beta=1, norm_type=cv2.NORM_MINMAX)\n",
    "    hist_test1 = cv2.calcHist([hsv_test1], channels, None, histSize, ranges, accumulate=False)\n",
    "    cv2.normalize(hist_test1, hist_test1, alpha=0, beta=1, norm_type=cv2.NORM_MINMAX)\n",
    "    # compare_method = {0: 'correlation', 1: 'chi-square', 2: 'intersection', 3: 'Bhattacharyya'}\n",
    "    corr = cv2.compareHist(hist_base, hist_test1, 0)\n",
    "    chisq = cv2.compareHist(hist_base, hist_test1, 1)\n",
    "    intersectn = cv2.compareHist(hist_base, hist_test1, 2)\n",
    "    bhat = cv2.compareHist(hist_base, hist_test1, 3)\n",
    "    \n",
    "    if isPrint:\n",
    "        print('HistCompare_correlation: ', corr)\n",
    "        print('HistCompare_chi_square: ', chisq)\n",
    "        print('HistCompare_intersction: ', intersectn)\n",
    "        print('HistCompare_bhat: ', bhat)\n",
    "    \n",
    "    return corr, chisq, intersectn, bhat\n",
    "    \n",
    "# Utils.ssim_score(img1, img2, data_range=1.0)\n",
    "# Utils.psnr_score(img1, img2)\n",
    "### Utils.inception_score()\n",
    "\n",
    "def spatialBinnedMetrics(imga, imgb, num_hor=4, num_ver=4):\n",
    "    # default 4 x 4\n",
    "    #assume a and b same shape\n",
    "    h,w, _ = imga.shape\n",
    "    dx = int(w / num_hor)\n",
    "    dy = int(h / num_ver)\n",
    "    \n",
    "    corr, chisq, inter, bhat = 0,0,0,0\n",
    "    for i in range(num_ver):\n",
    "        for j in range(num_hor):\n",
    "            patch_a = imga[i*dy : (i+1)*dy, j*dx : (j+1)*dx]\n",
    "            patch_b = imgb[i*dy : (i+1)*dy, j*dx : (j+1)*dx]\n",
    "            co, cs, inte, bh = computeMetrics(patch_a, patch_b)\n",
    "            corr += co\n",
    "            chisq += cs\n",
    "            inter += inte\n",
    "            bhat += bh\n",
    "    corr /= num_hor * num_ver\n",
    "    chisq /= num_hor * num_ver\n",
    "    inter /= num_hor * num_ver\n",
    "    bhat /= num_hor * num_ver\n",
    "    \n",
    "    print(\"\\nfinal: -----\")\n",
    "    print(\"correlation: \", corr)\n",
    "    print(\"chi square: \", chisq)\n",
    "    print(\"intersection: \", inter)\n",
    "    print(\"bhat: \", bhat)\n",
    "    \n",
    "    return corr, chisq, inter, bhat\n",
    "            \n",
    "            \n",
    "#     raise NotImplementedError()"
   ]
  },
  {
   "cell_type": "code",
   "execution_count": 8,
   "metadata": {},
   "outputs": [
    {
     "name": "stdout",
     "output_type": "stream",
     "text": [
      "\n",
      "final: -----\n",
      "correlation:  0.3425067914671823\n",
      "chi square:  69.82688479531737\n",
      "intersection:  0.6965580734540708\n",
      "bhat:  0.757381937877794\n",
      "\n",
      "final: -----\n",
      "correlation:  0.23578008233251135\n",
      "chi square:  61.512795997477355\n",
      "intersection:  0.4752978923934279\n",
      "bhat:  0.8099900201807584\n",
      "\n",
      "final: -----\n",
      "correlation:  0.2937919736254034\n",
      "chi square:  49.589535723910686\n",
      "intersection:  0.6681966850737808\n",
      "bhat:  0.7801533523616303\n",
      "\n",
      "final: -----\n",
      "correlation:  0.2522457473051185\n",
      "chi square:  59.1207187219289\n",
      "intersection:  0.4560984113632003\n",
      "bhat:  0.8054041164552392\n",
      "\n",
      "final: -----\n",
      "correlation:  0.23433901740939872\n",
      "chi square:  38.11667159928167\n",
      "intersection:  0.5048968901101034\n",
      "bhat:  0.8165285852902262\n",
      "\n",
      "final: -----\n",
      "correlation:  0.3562018697118856\n",
      "chi square:  18.699539442023397\n",
      "intersection:  0.6662489502996323\n",
      "bhat:  0.8034844232570711\n",
      "\n",
      "final: -----\n",
      "correlation:  0.2746525974879301\n",
      "chi square:  21.350953742848663\n",
      "intersection:  0.6377800458212732\n",
      "bhat:  0.7870010117491563\n",
      "\n",
      "final: -----\n",
      "correlation:  0.3504287798647415\n",
      "chi square:  15.056664535205693\n",
      "intersection:  0.5124447174093802\n",
      "bhat:  0.8285557266774879\n",
      "----- AGGREGATE SCORES -----\n",
      "Correlation:  0.2924933574005214  +-  0.048029682709846\n",
      "Intersection:  0.5771902082406086  +-  0.09259928708917613\n",
      "Bhat score:  0.7985623967311704  +-  0.02119079562243605\n",
      "\n",
      "----- INDIVIDUAL SCORES -----\n",
      "### Corr\n",
      "[0.34250679 0.23578008 0.29379197 0.25224575 0.23433902 0.35620187\n",
      " 0.2746526  0.35042878]\n",
      "### Inter\n",
      "[0.69655807 0.47529789 0.66819669 0.45609841 0.50489689 0.66624895\n",
      " 0.63778005 0.51244472]\n",
      "### Bhat\n",
      "[0.75738194 0.80999002 0.78015335 0.80540412 0.81652859 0.80348442\n",
      " 0.78700101 0.82855573]\n"
     ]
    },
    {
     "data": {
      "image/jpeg": "[encoded data removed]",
      "text/plain": [
       "<IPython.core.display.Image object>"
      ]
     },
     "execution_count": 8,
     "metadata": {},
     "output_type": "execute_result"
    }
   ],
   "source": [
    "from PIL import Image\n",
    "import matplotlib.pyplot as plt\n",
    "\n",
    "def gen(idx=0):\n",
    "    itera = iter(a_test_loader)\n",
    "    iterb = iter(b_test_loader)\n",
    "    for i in range(idx+1):\n",
    "        a = itera.next()\n",
    "        b = iterb.next()\n",
    "    a_real_test = Variable(a[0], requires_grad=True)\n",
    "    b_real_test = Variable(b[0], requires_grad=True)\n",
    "    a_real_test, b_real_test = utils.cuda([a_real_test, b_real_test])\n",
    "            \n",
    "\n",
    "    Gab.eval()\n",
    "    Gba.eval()\n",
    "\n",
    "    with torch.no_grad():\n",
    "        a_fake_test = Gab(b_real_test)\n",
    "        b_fake_test = Gba(a_real_test)\n",
    "        a_recon_test = Gab(b_fake_test)\n",
    "        b_recon_test = Gba(a_fake_test)\n",
    "\n",
    "        pic = (torch.cat([a_real_test, b_fake_test], dim=0).data + 1) / 2.0\n",
    "\n",
    "        if not os.path.isdir(results_dir):\n",
    "            os.makedirs(results_dir)\n",
    "\n",
    "        torchvision.utils.save_image(pic, results_dir+'/sample_%d.jpg' % idx, nrow=3)\n",
    "\n",
    "def print_test(length):\n",
    "    correlation_scores, intersection_scores, bhat_scores = np.empty(length), np.empty(length), np.empty(length)\n",
    "    \n",
    "    itera = iter(a_test_loader)\n",
    "    iterb = iter(b_test_loader)\n",
    "    res = []\n",
    "    for i in range(length):\n",
    "        a = itera.next()\n",
    "        b = iterb.next()\n",
    "        a_real_test = Variable(a[0], requires_grad=True)\n",
    "        b_real_test = Variable(b[0], requires_grad=True)\n",
    "        a_real_test, b_real_test = utils.cuda([a_real_test, b_real_test])\n",
    "        Gab.eval()\n",
    "        Gba.eval()\n",
    "\n",
    "        with torch.no_grad():\n",
    "            a_fake_test = Gab(b_real_test)\n",
    "            b_fake_test = Gba(a_real_test)\n",
    "            a_recon_test = Gab(b_fake_test)\n",
    "            b_recon_test = Gba(a_fake_test)\n",
    "            \n",
    "            # ADD METRICS\n",
    "            corr, chisq, inter, bhat = spatialBinnedMetrics(b_fake_test.data.squeeze(0).permute(1, 2, 0).cpu().numpy(), \n",
    "                                                            b_real_test.data.squeeze(0).permute(1, 2, 0).cpu().numpy(), \n",
    "                                                            num_hor=4, num_ver=4)\n",
    "            correlation_scores[i] = corr\n",
    "            intersection_scores[i] = inter\n",
    "            bhat_scores[i] = bhat\n",
    "\n",
    "            res.extend([a_real_test, b_fake_test, b_real_test])\n",
    "\n",
    "    cs_std = np.std(correlation_scores)\n",
    "    cs_mean = np.mean(correlation_scores)\n",
    "    is_std = np.std(intersection_scores)\n",
    "    is_mean = np.mean(intersection_scores)\n",
    "    bs_std = np.std(bhat_scores)\n",
    "    bs_mean = np.mean(bhat_scores)\n",
    "    print(\"----- AGGREGATE SCORES -----\")\n",
    "    print(\"Correlation: \", cs_mean, \" +- \", cs_std)\n",
    "    print(\"Intersection: \", is_mean, \" +- \", is_std)\n",
    "    print(\"Bhat score: \", bs_mean, \" +- \", bs_std)\n",
    "    print(\"\\n----- INDIVIDUAL SCORES -----\")\n",
    "    print(\"### Corr\")\n",
    "    print(correlation_scores)\n",
    "    print(\"### Inter\")\n",
    "    print(intersection_scores)\n",
    "    print(\"### Bhat\")\n",
    "    print(bhat_scores)\n",
    "    \n",
    "    pic = (torch.cat(res, dim=0).data + 1) / 2.0\n",
    "\n",
    "    if not os.path.isdir(results_dir):\n",
    "        os.makedirs(results_dir)\n",
    "\n",
    "    torchvision.utils.save_image(pic, results_dir+'/result_%d.jpg' % ckpt['epoch'], nrow=6)\n",
    "\n",
    "# idx = 16\n",
    "# gen(idx)\n",
    "# from IPython.display import Image\n",
    "# Image(filename=results_dir+'/sample_%d.jpg' % idx) \n",
    "\n",
    "print_test(8)\n",
    "\n",
    "from IPython.display import Image\n",
    "Image(filename=results_dir+'/result_%d.jpg' % ckpt['epoch']) "
   ]
  },
  {
   "cell_type": "markdown",
   "metadata": {},
   "source": [
    "# RUN THIS FOR METRICS YA :]"
   ]
  },
  {
   "cell_type": "code",
   "execution_count": 9,
   "metadata": {},
   "outputs": [],
   "source": [
    "def readImage(path):\n",
    "    return cv2.imread(path)\n",
    "\n",
    "def computeMetrics(imga, imgb, isPrint=False):\n",
    "    hsv_base = cv2.cvtColor(imga, cv2.COLOR_BGR2HSV)\n",
    "    hsv_test1 = cv2.cvtColor(imgb, cv2.COLOR_BGR2HSV)\n",
    "    h_bins = 50\n",
    "    s_bins = 60\n",
    "    v_bins = 60\n",
    "    histSize = [h_bins, s_bins, v_bins]\n",
    "    # hue varies from 0 to 179, saturation from 0 to 255, value from 0 to 255\n",
    "    h_ranges = [0, 180]\n",
    "    s_ranges = [0, 256]\n",
    "    v_ranges = [0, 256]\n",
    "    ranges = h_ranges + s_ranges + v_ranges# concat lists\n",
    "    # Use 0,1,2nd channels\n",
    "    channels = [0, 1, 2]\n",
    "    hist_base = cv2.calcHist([hsv_base], channels, None, histSize, ranges, accumulate=False)\n",
    "    cv2.normalize(hist_base, hist_base, alpha=0, beta=1, norm_type=cv2.NORM_MINMAX)\n",
    "    hist_test1 = cv2.calcHist([hsv_test1], channels, None, histSize, ranges, accumulate=False)\n",
    "    cv2.normalize(hist_test1, hist_test1, alpha=0, beta=1, norm_type=cv2.NORM_MINMAX)\n",
    "    # compare_method = {0: 'correlation', 1: 'chi-square', 2: 'intersection', 3: 'Bhattacharyya'}\n",
    "    corr = cv2.compareHist(hist_base, hist_test1, 0)\n",
    "    chisq = cv2.compareHist(hist_base, hist_test1, 1)\n",
    "    intersectn = cv2.compareHist(hist_base, hist_test1, 2)\n",
    "    bhat = cv2.compareHist(hist_base, hist_test1, 3)\n",
    "    \n",
    "    if isPrint:\n",
    "        print('HistCompare_correlation: ', corr)\n",
    "        print('HistCompare_chi_square: ', chisq)\n",
    "        print('HistCompare_intersction: ', intersectn)\n",
    "        print('HistCompare_bhat: ', bhat)\n",
    "    \n",
    "    return corr, chisq, intersectn, bhat\n",
    "    \n",
    "# Utils.ssim_score(img1, img2, data_range=1.0)\n",
    "# Utils.psnr_score(img1, img2)\n",
    "### Utils.inception_score()\n",
    "\n",
    "def spatialBinnedMetrics(imga, imgb, num_hor=4, num_ver=4):\n",
    "    # default 4 x 4\n",
    "    #assume a and b same shape\n",
    "    h,w, _ = imga.shape\n",
    "    dx = int(w / num_hor)\n",
    "    dy = int(h / num_ver)\n",
    "    \n",
    "    corr, chisq, inter, bhat = 0,0,0,0\n",
    "    for i in range(num_ver):\n",
    "        for j in range(num_hor):\n",
    "            patch_a = imga[i*dy : (i+1)*dy, j*dx : (j+1)*dx]\n",
    "            patch_b = imgb[i*dy : (i+1)*dy, j*dx : (j+1)*dx]\n",
    "            co, cs, inte, bh = computeMetrics(patch_a, patch_b)\n",
    "            corr += co\n",
    "            chisq += cs\n",
    "            inter += inte\n",
    "            bhat += bh\n",
    "    corr /= num_hor * num_ver\n",
    "    chisq /= num_hor * num_ver\n",
    "    inter /= num_hor * num_ver\n",
    "    bhat /= num_hor * num_ver\n",
    "    \n",
    "    print(\"\\nfinal: -----\")\n",
    "    print(\"correlation: \", corr)\n",
    "    print(\"chi square: \", chisq)\n",
    "    print(\"intersection: \", inter)\n",
    "    print(\"bhat: \", bhat)\n",
    "    \n",
    "    return corr, chisq, inter, bhat\n",
    "            \n",
    "            \n",
    "#     raise NotImplementedError()"
   ]
  },
  {
   "cell_type": "code",
   "execution_count": 10,
   "metadata": {},
   "outputs": [],
   "source": [
    "def compareImages(res_test_loader, actual_test_loader):\n",
    "    length = len(res_test_loader)\n",
    "    correlation_scores, intersection_scores, bhat_scores = np.empty(length), np.empty(length), np.empty(length)\n",
    "    \n",
    "    itera = iter(res_test_loader)\n",
    "    iterb = iter(actual_test_loader)\n",
    "    for i in range(length):\n",
    "        a = itera.next()\n",
    "        b = iterb.next()\n",
    "        a_real_test = Variable(a[0], requires_grad=True)\n",
    "        b_real_test = Variable(b[0], requires_grad=True)\n",
    "        \n",
    "        print(\"###\", i, \" ###\")\n",
    "        corr, chisq, inter, bhat = spatialBinnedMetrics(a_real_test.data.squeeze(0).permute(1, 2, 0).numpy(), b_real_test.data.squeeze(0).permute(1, 2, 0).numpy(), num_hor=4, num_ver=4)\n",
    "        correlation_scores[i] = corr; intersection_scores[i] = inter; bhat_scores[i] = bhat\n",
    "\n",
    "    cs_std = np.std(correlation_scores)\n",
    "    cs_mean = np.mean(correlation_scores)\n",
    "    is_std = np.std(intersection_scores)\n",
    "    is_mean = np.mean(intersection_scores)\n",
    "    bs_std = np.std(bhat_scores)\n",
    "    bs_mean = np.mean(bhat_scores)\n",
    "    print(\"----- AGGREGATE SCORES -----\")\n",
    "    print(\"Correlation: \", cs_mean, \" +- \", cs_std)\n",
    "    print(\"Intersection: \", is_mean, \" +- \", is_std)\n",
    "    print(\"Bhat score: \", bs_mean, \" +- \", bs_std)\n",
    "    print(\"\\n----- INDIVIDUAL SCORES -----\")\n",
    "    print(\"### Corr\")\n",
    "    print(correlation_scores)\n",
    "    print(\"### Inter\")\n",
    "    print(intersection_scores)\n",
    "    print(\"### Bhat\")\n",
    "    print(bhat_scores)"
   ]
  },
  {
   "cell_type": "code",
   "execution_count": 11,
   "metadata": {},
   "outputs": [
    {
     "name": "stdout",
     "output_type": "stream",
     "text": [
      "### 0  ###\n",
      "\n",
      "final: -----\n",
      "correlation:  0.7236126643124855\n",
      "chi square:  0.09897040673679211\n",
      "intersection:  0.8374435091391206\n",
      "bhat:  0.5179918153183981\n",
      "### 1  ###\n",
      "\n",
      "final: -----\n",
      "correlation:  0.8025495598981142\n",
      "chi square:  0.09554341176172021\n",
      "intersection:  0.879054750315845\n",
      "bhat:  0.41148625336650435\n",
      "### 2  ###\n",
      "\n",
      "final: -----\n",
      "correlation:  0.882258296670881\n",
      "chi square:  0.0755074884906477\n",
      "intersection:  0.9052479322999716\n",
      "bhat:  0.4106254290586581\n",
      "### 3  ###\n",
      "\n",
      "final: -----\n",
      "correlation:  0.8374311718336156\n",
      "chi square:  0.03620423149135599\n",
      "intersection:  0.9230182394385338\n",
      "bhat:  0.38119196681007406\n",
      "### 4  ###\n",
      "\n",
      "final: -----\n",
      "correlation:  0.7309927807474267\n",
      "chi square:  0.18798885503527243\n",
      "intersection:  0.7656643313821405\n",
      "bhat:  0.4935132220929165\n",
      "### 5  ###\n",
      "\n",
      "final: -----\n",
      "correlation:  0.740710199143273\n",
      "chi square:  0.23805280802135304\n",
      "intersection:  0.7156741991639137\n",
      "bhat:  0.5101109913701953\n",
      "### 6  ###\n",
      "\n",
      "final: -----\n",
      "correlation:  0.7514877259731629\n",
      "chi square:  0.18872527881617973\n",
      "intersection:  0.800133690237999\n",
      "bhat:  0.4937868146652572\n",
      "### 7  ###\n",
      "\n",
      "final: -----\n",
      "correlation:  0.8427187018317212\n",
      "chi square:  0.23915232520228646\n",
      "intersection:  0.7556423463684041\n",
      "bhat:  0.4851750015661054\n",
      "### 8  ###\n",
      "\n",
      "final: -----\n",
      "correlation:  0.805639103806028\n",
      "chi square:  0.025873476987977012\n",
      "intersection:  0.9283525831997395\n",
      "bhat:  0.493295747826692\n",
      "----- AGGREGATE SCORES -----\n",
      "Correlation:  0.7908222449129675  +-  0.05347727358730802\n",
      "Intersection:  0.8344701757272964  +-  0.07446127332677388\n",
      "Bhat score:  0.4663530268972001  +-  0.047749489740157657\n",
      "\n",
      "----- INDIVIDUAL SCORES -----\n",
      "### Corr\n",
      "[0.72361266 0.80254956 0.8822583  0.83743117 0.73099278 0.7407102\n",
      " 0.75148773 0.8427187  0.8056391 ]\n",
      "### Inter\n",
      "[0.83744351 0.87905475 0.90524793 0.92301824 0.76566433 0.7156742\n",
      " 0.80013369 0.75564235 0.92835258]\n",
      "### Bhat\n",
      "[0.51799182 0.41148625 0.41062543 0.38119197 0.49351322 0.51011099\n",
      " 0.49378681 0.485175   0.49329575]\n"
     ]
    }
   ],
   "source": [
    "### This is an example call after loading the test_loaders as in cell 4 on top\n",
    "compareImages(a_test_loader, b_test_loader)"
   ]
  },
  {
   "cell_type": "markdown",
   "metadata": {},
   "source": [
    "## Metrics\n",
    "\n",
    "Test and generate colourings --> then use metric"
   ]
  },
  {
   "cell_type": "code",
   "execution_count": null,
   "metadata": {},
   "outputs": [],
   "source": [
    "import cv2\n",
    "import numpy as np\n",
    "import matplotlib.pyplot as plt\n",
    "\n",
    "import eval_utils as Utils"
   ]
  },
  {
   "cell_type": "code",
   "execution_count": null,
   "metadata": {},
   "outputs": [],
   "source": [
    "def readImage(path):\n",
    "    return cv2.imread(path)\n",
    "\n",
    "def computeMetrics(imga, imgb, isPrint=False):\n",
    "    hsv_base = cv2.cvtColor(imga, cv2.COLOR_BGR2HSV)\n",
    "    hsv_test1 = cv2.cvtColor(imgb, cv2.COLOR_BGR2HSV)\n",
    "    h_bins = 50\n",
    "    s_bins = 60\n",
    "    v_bins = 60\n",
    "    histSize = [h_bins, s_bins, v_bins]\n",
    "    # hue varies from 0 to 179, saturation from 0 to 255, value from 0 to 255\n",
    "    h_ranges = [0, 180]\n",
    "    s_ranges = [0, 256]\n",
    "    v_ranges = [0, 256]\n",
    "    ranges = h_ranges + s_ranges + v_ranges# concat lists\n",
    "    # Use 0,1,2nd channels\n",
    "    channels = [0, 1, 2]\n",
    "    hist_base = cv2.calcHist([hsv_base], channels, None, histSize, ranges, accumulate=False)\n",
    "    cv2.normalize(hist_base, hist_base, alpha=0, beta=1, norm_type=cv2.NORM_MINMAX)\n",
    "    hist_test1 = cv2.calcHist([hsv_test1], channels, None, histSize, ranges, accumulate=False)\n",
    "    cv2.normalize(hist_test1, hist_test1, alpha=0, beta=1, norm_type=cv2.NORM_MINMAX)\n",
    "    # compare_method = {0: 'correlation', 1: 'chi-square', 2: 'intersection', 3: 'Bhattacharyya'}\n",
    "    corr = cv2.compareHist(hist_base, hist_test1, 0)\n",
    "    chisq = cv2.compareHist(hist_base, hist_test1, 1)\n",
    "    intersectn = cv2.compareHist(hist_base, hist_test1, 2)\n",
    "    bhat = cv2.compareHist(hist_base, hist_test1, 3)\n",
    "    \n",
    "    if isPrint:\n",
    "        print('HistCompare_correlation: ', corr)\n",
    "        print('HistCompare_chi_square: ', chisq)\n",
    "        print('HistCompare_intersction: ', intersectn)\n",
    "        print('HistCompare_bhat: ', bhat)\n",
    "    \n",
    "    return corr, chisq, intersectn, bhat\n",
    "    \n",
    "# Utils.ssim_score(img1, img2, data_range=1.0)\n",
    "# Utils.psnr_score(img1, img2)\n",
    "### Utils.inception_score()\n",
    "\n",
    "def spatialBinnedMetrics(imga, imgb, num_hor=4, num_ver=4):\n",
    "    # default 4 x 4\n",
    "    #assume a and b same shape\n",
    "    print(imga.shape)\n",
    "    h,w, _ = imga.shape\n",
    "    dx = int(w / num_hor)\n",
    "    dy = int(h / num_ver)\n",
    "    \n",
    "    corr, chisq, inter, bhat = 0,0,0,0\n",
    "    for i in range(num_ver):\n",
    "        for j in range(num_hor):\n",
    "            patch_a = imga[i*dy : (i+1)*dy, j*dx : (j+1)*dx]\n",
    "            patch_b = imgb[i*dy : (i+1)*dy, j*dx : (j+1)*dx]\n",
    "            co, cs, inte, bh = computeMetrics(patch_a, patch_b)\n",
    "            corr += co\n",
    "            chisq += cs\n",
    "            inter += inte\n",
    "            bhat += bh\n",
    "    corr /= num_hor * num_ver\n",
    "    chisq /= num_hor * num_ver\n",
    "    inter /= num_hor * num_ver\n",
    "    bhat /= num_hor * num_ver\n",
    "    \n",
    "    print(\"\\nfinal: -----\")\n",
    "    print(\"correlation: \", corr)\n",
    "    print(\"chi square: \", chisq)\n",
    "    print(\"intersection: \", inter)\n",
    "    print(\"bhat: \", bhat)\n",
    "    \n",
    "    return corr, chisq, inter, bhat\n",
    "            \n",
    "            \n",
    "#     raise NotImplementedError()"
   ]
  },
  {
   "cell_type": "code",
   "execution_count": null,
   "metadata": {},
   "outputs": [],
   "source": [
    "pokemon = ['lapras, omastar, staryu, dunspace'] #bbyy\n",
    "testevaldir = './datasets/test_metrics/'\n",
    "imgType = ['_grey.jpg', '_res.jpg', '.jpg']"
   ]
  },
  {
   "cell_type": "code",
   "execution_count": null,
   "metadata": {},
   "outputs": [],
   "source": [
    "# img1path = './datasets/sketch2pokemon/testB/90_B.jpg'\n",
    "# img2path = './datasets/sketch2pokemon/testB/91_B.jpg'\n",
    "# poke = pokemon[0]\n",
    "# img2path = testevaldir+poke+imgType[2]\n",
    "# img1path = testevaldir+poke+imgType[0]\n",
    "img1path = './datasets/test_metrics/omastar_grey.jpg'\n",
    "img2path = './datasets/test_metrics/omastar_res.jpg'\n",
    "img3path = './datasets/test_metrics/omastar.jpg'\n",
    "\n",
    "imga = readImage(img1path)\n",
    "imgb = readImage(img2path)\n",
    "imgc = readImage(img3path)\n",
    "\n",
    "plt.subplot(131)\n",
    "plt.imshow(imga)\n",
    "plt.subplot(132)\n",
    "plt.imshow(imgb)\n",
    "plt.subplot(133)\n",
    "plt.imshow(imgc)\n",
    "plt.show()"
   ]
  },
  {
   "cell_type": "code",
   "execution_count": null,
   "metadata": {},
   "outputs": [],
   "source": [
    "def eval_print(label, img1, img2, isPrint=False):\n",
    "    print(label, \"-----\")\n",
    "    print(\"ssim: \", Utils.ssim_score(img1, img2, data_range=1.0))\n",
    "    print(\"psnr: \", Utils.psnr_score(img1, img2))\n",
    "    computeMetrics(img1, img2, isPrint=isPrint)"
   ]
  },
  {
   "cell_type": "markdown",
   "metadata": {},
   "source": [
    "### Dunspace eg"
   ]
  },
  {
   "cell_type": "code",
   "execution_count": null,
   "metadata": {},
   "outputs": [],
   "source": [
    "eval_print(\"# GREY\", imga, imgc) #dunspace\n",
    "eval_print('# RES', imgb, imgc)\n",
    "eval_print('# IDENTITY', imgc, imgc)"
   ]
  },
  {
   "cell_type": "code",
   "execution_count": null,
   "metadata": {},
   "outputs": [],
   "source": [
    "spatialBinnedMetrics(imga, imgc)\n",
    "spatialBinnedMetrics(imgb, imgc)\n",
    "spatialBinnedMetrics(imgc, imgc)"
   ]
  },
  {
   "cell_type": "markdown",
   "metadata": {},
   "source": [
    "### Staryu eg"
   ]
  },
  {
   "cell_type": "code",
   "execution_count": null,
   "metadata": {},
   "outputs": [],
   "source": [
    "eval_print(\"# GREY\", imga, imgc) #staryu\n",
    "eval_print('# RES', imgb, imgc)\n",
    "eval_print('# IDENTITY', imgc, imgc)"
   ]
  },
  {
   "cell_type": "code",
   "execution_count": null,
   "metadata": {},
   "outputs": [],
   "source": [
    "spatialBinnedMetrics(imga, imgc)\n",
    "spatialBinnedMetrics(imgb, imgc)\n",
    "spatialBinnedMetrics(imgc, imgc)"
   ]
  },
  {
   "cell_type": "markdown",
   "metadata": {},
   "source": [
    "### lapras eg"
   ]
  },
  {
   "cell_type": "code",
   "execution_count": null,
   "metadata": {},
   "outputs": [],
   "source": [
    "eval_print(\"# GREY\", imga, imgc, isPrint=True) #lapras\n",
    "eval_print('# RES', imgb, imgc, isPrint=True)\n",
    "eval_print('# IDENTITY', imgc, imgc, isPrint=True)"
   ]
  },
  {
   "cell_type": "code",
   "execution_count": null,
   "metadata": {},
   "outputs": [],
   "source": [
    "spatialBinnedMetrics(imga, imgc)\n",
    "spatialBinnedMetrics(imgb, imgc)\n",
    "spatialBinnedMetrics(imgc, imgc)"
   ]
  },
  {
   "cell_type": "markdown",
   "metadata": {},
   "source": [
    "### omastar eg"
   ]
  },
  {
   "cell_type": "code",
   "execution_count": null,
   "metadata": {},
   "outputs": [],
   "source": [
    "eval_print(\"# GREY\", imga, imgc, isPrint=True) #lapras\n",
    "eval_print('# RES', imgb, imgc, isPrint=True)\n",
    "eval_print('# IDENTITY', imgc, imgc, isPrint=True)"
   ]
  },
  {
   "cell_type": "code",
   "execution_count": null,
   "metadata": {},
   "outputs": [],
   "source": [
    "spatialBinnedMetrics(imga, imgc)\n",
    "spatialBinnedMetrics(imgb, imgc)\n",
    "spatialBinnedMetrics(imgc, imgc)"
   ]
  },
  {
   "cell_type": "markdown",
   "metadata": {},
   "source": [
    "### Dump"
   ]
  },
  {
   "cell_type": "code",
   "execution_count": null,
   "metadata": {},
   "outputs": [],
   "source": [
    "computeMetrics(imga, imgb) #exact same ghastly"
   ]
  },
  {
   "cell_type": "code",
   "execution_count": null,
   "metadata": {},
   "outputs": [],
   "source": [
    "computeMetrics(imga, imgb) #onix onix"
   ]
  },
  {
   "cell_type": "markdown",
   "metadata": {},
   "source": [
    "from here can see that intersection and bhat is not ideal cus dif values despite identity"
   ]
  },
  {
   "cell_type": "code",
   "execution_count": null,
   "metadata": {},
   "outputs": [],
   "source": [
    "computeMetrics(imga, imgb) #ghastly haunter"
   ]
  },
  {
   "cell_type": "code",
   "execution_count": null,
   "metadata": {},
   "outputs": [],
   "source": [
    "computeMetrics(imga, imgb) #ghastly gengar"
   ]
  },
  {
   "cell_type": "code",
   "execution_count": null,
   "metadata": {},
   "outputs": [],
   "source": [
    "computeMetrics(imga, imgb) #ghastly onix"
   ]
  },
  {
   "cell_type": "code",
   "execution_count": null,
   "metadata": {},
   "outputs": [],
   "source": [
    "computeMetrics(imga, imgb) #ghastly mutant_drowzee"
   ]
  },
  {
   "cell_type": "markdown",
   "metadata": {},
   "source": [
    "chisq seems gd ah"
   ]
  },
  {
   "cell_type": "code",
   "execution_count": null,
   "metadata": {},
   "outputs": [],
   "source": [
    "computeMetrics(imga, imgb) #ghastly caterpie"
   ]
  },
  {
   "cell_type": "markdown",
   "metadata": {},
   "source": [
    "# Dump (to ignore)"
   ]
  },
  {
   "cell_type": "code",
   "execution_count": null,
   "metadata": {
    "jupyter": {
     "source_hidden": true
    }
   },
   "outputs": [],
   "source": [
    "def save_sample_image(test_length):\n",
    "    temp_dir = './temp'\n",
    "    itera = iter(a_test_loader)\n",
    "    iterb = iter(b_test_loader)\n",
    "    res = []\n",
    "    average_hist_score_correlation = 0.0\n",
    "    average_hist_score_chi_square = 0.0\n",
    "    average_hist_score_intersction = 0.0\n",
    "    average_hist_score_bhat = 0.0\n",
    "    for i in range(test_length):\n",
    "        a = itera.next()\n",
    "        b = iterb.next()\n",
    "        a_real_test = Variable(a[0], requires_grad=True)\n",
    "        b_real_test = Variable(b[0], requires_grad=True)\n",
    "        a_real_test, b_real_test = utils.cuda([a_real_test, b_real_test])\n",
    "        Gab.eval()\n",
    "        Gba.eval()\n",
    "\n",
    "        with torch.no_grad():\n",
    "            # a_fake_test = self.Gab(b_real_test)\n",
    "            b_fake_test = Gba(a_real_test)\n",
    "            # a_recon_test = self.Gab(b_fake_test)\n",
    "            # b_recon_test = self.Gba(a_fake_test)\n",
    "\n",
    "            res.extend([a_real_test, b_fake_test, b_real_test])\n",
    "\n",
    "            ##### Generate histogram similarity score\n",
    "            # Documentation: https://docs.opencv.org/3.4/d8/dc8/tutorial_histogram_comparison.html\n",
    "            torchvision.utils.save_image(b_fake_test.cpu(), temp_dir + '/model_output' + i + '.jpg')\n",
    "            torchvision.utils.save_image(b_real_test.cpu(), temp_dir + '/groundtruth' + i + '.jpg')\n",
    "            src_base = cv2.imread(temp_dir + '/groundtruth.jpg')\n",
    "            src_test1 = cv2.imread(temp_dir + '/model_output.jpg')\n",
    "            hsv_base = cv2.cvtColor(src_base, cv2.COLOR_BGR2HSV)\n",
    "            hsv_test1 = cv2.cvtColor(src_test1, cv2.COLOR_BGR2HSV)\n",
    "            h_bins = 50\n",
    "            s_bins = 60\n",
    "            v_bins = 60\n",
    "            histSize = [h_bins, s_bins, v_bins]\n",
    "            # hue varies from 0 to 179, saturation from 0 to 255, value from 0 to 255\n",
    "            h_ranges = [0, 180]\n",
    "            s_ranges = [0, 256]\n",
    "            v_ranges = [0, 256]\n",
    "            ranges = h_ranges + s_ranges + v_ranges# concat lists\n",
    "            # Use 0,1,2nd channels\n",
    "            channels = [0, 1, 2]\n",
    "            hist_base = cv2.calcHist([hsv_base], channels, None, histSize, ranges, accumulate=False)\n",
    "            cv2.normalize(hist_base, hist_base, alpha=0, beta=1, norm_type=cv2.NORM_MINMAX)\n",
    "            hist_test1 = cv2.calcHist([hsv_test1], channels, None, histSize, ranges, accumulate=False)\n",
    "            cv2.normalize(hist_test1, hist_test1, alpha=0, beta=1, norm_type=cv2.NORM_MINMAX)\n",
    "            # compare_method = {0: 'correlation', 1: 'chi-square', 2: 'intersection', 3: 'Bhattacharyya'}\n",
    "            corr = cv2.compareHist(hist_base, hist_test1, 0)\n",
    "            average_hist_score_correlation += corr\n",
    "            chisq = cv2.compareHist(hist_base, hist_test1, 1)\n",
    "            average_hist_score_chi_square += chisq\n",
    "            intersectn = cv2.compareHist(hist_base, hist_test1, 2)\n",
    "            average_hist_score_intersction += intersectn\n",
    "            bhat = cv2.compareHist(hist_base, hist_test1, 3)\n",
    "            average_hist_score_bhat += bhat\n",
    "            # os.remove(temp_dir + '/model_output.jpg')\n",
    "            # os.remove(temp_dir + '/groundtruth.jpg')\n",
    "            print('HistCompare_correlation: ', corr)\n",
    "            print('HistCompare_chi_square: ', chisq)\n",
    "            print('HistCompare_intersction: ', intersectn)\n",
    "            print('HistCompare_bhat: ', bhat)\n",
    "\n",
    "    print('aveHistCompare_correlation: ', average_hist_score_correlation / test_length)\n",
    "    print('aveHistCompare_chi_square: ', average_hist_score_chi_square / test_length)\n",
    "    print('aveHistCompare_intersction: ', average_hist_score_intersction / test_length)\n",
    "    print('aveHistCompare_bhat: ', average_hist_score_bhat / test_length)\n"
   ]
  },
  {
   "cell_type": "code",
   "execution_count": null,
   "metadata": {
    "jupyter": {
     "outputs_hidden": true,
     "source_hidden": true
    }
   },
   "outputs": [],
   "source": [
    "save_sample_image(5)"
   ]
  }
 ],
 "metadata": {
  "kernelspec": {
   "display_name": "Python 3",
   "language": "python",
   "name": "python3"
  },
  "language_info": {
   "codemirror_mode": {
    "name": "ipython",
    "version": 3
   },
   "file_extension": ".py",
   "mimetype": "text/x-python",
   "name": "python",
   "nbconvert_exporter": "python",
   "pygments_lexer": "ipython3",
   "version": "3.8.3"
  }
 },
 "nbformat": 4,
 "nbformat_minor": 4
}
