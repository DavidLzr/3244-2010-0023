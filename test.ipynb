{
 "cells": [
  {
   "cell_type": "code",
   "execution_count": 2,
   "metadata": {},
   "outputs": [],
   "source": [
    "import os\n",
    "import cv2\n",
    "import torch\n",
    "from torch import nn\n",
    "from torch.autograd import Variable\n",
    "import torchvision\n",
    "import torchvision.datasets as dsets\n",
    "import torchvision.transforms as transforms\n",
    "import utils\n",
    "from discriminators import define_Dis\n",
    "from generators import define_Gen"
   ]
  },
  {
   "cell_type": "code",
   "execution_count": 3,
   "metadata": {
    "tags": []
   },
   "outputs": [],
   "source": [
    "crop_height = 128\n",
    "crop_width = 128\n",
    "dataset_dir = './datasets/sketch2pokemon'\n",
    "checkpoint_dir = './checkpoints/sketch2pokemon'\n",
    "checkpoint_name = 'latest'\n",
    "results_dir = './results'\n",
    "batch_size = 1\n",
    "ngf = 64\n",
    "norm = 'instance'\n",
    "no_dropout = False\n",
    "gpu_ids = []#[0]\n",
    "\n",
    "test_length = 5"
   ]
  },
  {
   "cell_type": "code",
   "execution_count": 5,
   "metadata": {},
   "outputs": [
    {
     "data": {
      "text/plain": [
       "{'trainA': './datasets/sketch2pokemon/ltrainA',\n",
       " 'trainB': './datasets/sketch2pokemon/ltrainB',\n",
       " 'testA': './datasets/sketch2pokemon/ltestA',\n",
       " 'testB': './datasets/sketch2pokemon/ltestB'}"
      ]
     },
     "execution_count": 5,
     "metadata": {},
     "output_type": "execute_result"
    }
   ],
   "source": [
    "utils.create_link(dataset_dir)"
   ]
  },
  {
   "cell_type": "code",
   "execution_count": 4,
   "metadata": {
    "tags": []
   },
   "outputs": [
    {
     "name": "stdout",
     "output_type": "stream",
     "text": [
      "Network initialized with weights sampled from N(0,0.02).\n",
      "Network initialized with weights sampled from N(0,0.02).\n",
      "------------Number of Parameters---------------\n",
      "[Network Gab] Total number of parameters : 11.378 M\n",
      "[Network Gba] Total number of parameters : 11.378 M\n",
      "-----------------------------------------------\n"
     ]
    }
   ],
   "source": [
    "transform = transforms.Compose(\n",
    "    [transforms.Resize((crop_height,crop_width)),\n",
    "        transforms.ToTensor(),\n",
    "        transforms.Normalize(mean=[0.5, 0.5, 0.5], std=[0.5, 0.5, 0.5])])\n",
    "\n",
    "dataset_dirs = utils.get_testdata_link(dataset_dir)\n",
    "\n",
    "a_test_data = dsets.ImageFolder(dataset_dirs['testA'], transform=transform)\n",
    "b_test_data = dsets.ImageFolder(dataset_dirs['testB'], transform=transform)\n",
    "\n",
    "\n",
    "a_test_loader = torch.utils.data.DataLoader(a_test_data, batch_size=batch_size, shuffle=False, num_workers=4) # set shuffle to false for testing\n",
    "b_test_loader = torch.utils.data.DataLoader(b_test_data, batch_size=batch_size, shuffle=False, num_workers=4)\n",
    "\n",
    "Gab = define_Gen(input_nc=3, output_nc=3, ngf=ngf, netG='resnet_9blocks', norm=norm, \n",
    "                                                use_dropout= not no_dropout, gpu_ids=gpu_ids)\n",
    "Gba = define_Gen(input_nc=3, output_nc=3, ngf=ngf, netG='resnet_9blocks', norm=norm, \n",
    "                                                use_dropout= not no_dropout, gpu_ids=gpu_ids)\n",
    "\n",
    "utils.print_networks([Gab,Gba], ['Gab','Gba'])"
   ]
  },
  {
   "cell_type": "code",
   "execution_count": 5,
   "metadata": {
    "tags": []
   },
   "outputs": [
    {
     "name": "stdout",
     "output_type": "stream",
     "text": [
      "./checkpoints/sketch2pokemon/latest.ckpt\n",
      " [*] No checkpoint!\n"
     ]
    }
   ],
   "source": [
    "try:\n",
    "    ckpt = utils.load_checkpoint('%s/%s.ckpt' % (checkpoint_dir, checkpoint_name))\n",
    "    Gab.load_state_dict(ckpt['Gab'])\n",
    "    Gba.load_state_dict(ckpt['Gba'])\n",
    "except:\n",
    "    print(' [*] No checkpoint!')"
   ]
  },
  {
   "cell_type": "code",
   "execution_count": null,
   "metadata": {},
   "outputs": [],
   "source": [
    "a_train_loader = torch.utils.data.DataLoader(dsets.ImageFolder(utils.get_traindata_link(dataset_dir)['trainA'], transform=transform), \n",
    "                                                batch_size=batch_size, shuffle=False, num_workers=4)\n",
    "b_train_loader = torch.utils.data.DataLoader(dsets.ImageFolder(utils.get_traindata_link(dataset_dir)['trainB'], transform=transform), \n",
    "                                                batch_size=batch_size, shuffle=False, num_workers=4)"
   ]
  },
  {
   "cell_type": "code",
   "execution_count": 6,
   "metadata": {},
   "outputs": [
    {
     "name": "stderr",
     "output_type": "stream",
     "text": [
      "\n",
      "Bad key text.latex.unicode in file /home/ykaixin/.local/lib/python3.6/site-packages/matplotlib/mpl-data/stylelib/_classic_test.mplstyle, line 112 ('text.latex.unicode : False # use \"ucs\" and \"inputenc\" LaTeX packages for handling')\n",
      "You probably need to get an updated matplotlibrc file from\n",
      "https://github.com/matplotlib/matplotlib/blob/v3.3.2/matplotlibrc.template\n",
      "or from the matplotlib source distribution\n",
      "\n",
      "Bad key text.dvipnghack in file /home/ykaixin/.local/lib/python3.6/site-packages/matplotlib/mpl-data/stylelib/_classic_test.mplstyle, line 127 (\"text.dvipnghack : None      # some versions of dvipng don't handle alpha\")\n",
      "You probably need to get an updated matplotlibrc file from\n",
      "https://github.com/matplotlib/matplotlib/blob/v3.3.2/matplotlibrc.template\n",
      "or from the matplotlib source distribution\n",
      "\n",
      "Bad key savefig.frameon in file /home/ykaixin/.local/lib/python3.6/site-packages/matplotlib/mpl-data/stylelib/_classic_test.mplstyle, line 430 ('savefig.frameon : True')\n",
      "You probably need to get an updated matplotlibrc file from\n",
      "https://github.com/matplotlib/matplotlib/blob/v3.3.2/matplotlibrc.template\n",
      "or from the matplotlib source distribution\n",
      "\n",
      "Bad key nbagg.transparent in file /home/ykaixin/.local/lib/python3.6/site-packages/matplotlib/mpl-data/stylelib/_classic_test.mplstyle, line 433 ('nbagg.transparent: True')\n",
      "You probably need to get an updated matplotlibrc file from\n",
      "https://github.com/matplotlib/matplotlib/blob/v3.3.2/matplotlibrc.template\n",
      "or from the matplotlib source distribution\n",
      "\n",
      "Bad key pgf.debug in file /home/ykaixin/.local/lib/python3.6/site-packages/matplotlib/mpl-data/stylelib/_classic_test.mplstyle, line 453 ('pgf.debug           : False')\n",
      "You probably need to get an updated matplotlibrc file from\n",
      "https://github.com/matplotlib/matplotlib/blob/v3.3.2/matplotlibrc.template\n",
      "or from the matplotlib source distribution\n",
      "\n",
      "Bad key verbose.level in file /home/ykaixin/.local/lib/python3.6/site-packages/matplotlib/mpl-data/stylelib/_classic_test.mplstyle, line 484 ('verbose.level  : silent      # one of silent, helpful, debug, debug-annoying')\n",
      "You probably need to get an updated matplotlibrc file from\n",
      "https://github.com/matplotlib/matplotlib/blob/v3.3.2/matplotlibrc.template\n",
      "or from the matplotlib source distribution\n",
      "\n",
      "Bad key verbose.fileo in file /home/ykaixin/.local/lib/python3.6/site-packages/matplotlib/mpl-data/stylelib/_classic_test.mplstyle, line 485 ('verbose.fileo  : sys.stdout  # a log filename, sys.stdout or sys.stderr')\n",
      "You probably need to get an updated matplotlibrc file from\n",
      "https://github.com/matplotlib/matplotlib/blob/v3.3.2/matplotlibrc.template\n",
      "or from the matplotlib source distribution\n",
      "\n",
      "Bad key animation.mencoder_path in file /home/ykaixin/.local/lib/python3.6/site-packages/matplotlib/mpl-data/stylelib/_classic_test.mplstyle, line 516 ('animation.mencoder_path: mencoder')\n",
      "You probably need to get an updated matplotlibrc file from\n",
      "https://github.com/matplotlib/matplotlib/blob/v3.3.2/matplotlibrc.template\n",
      "or from the matplotlib source distribution\n",
      "\n",
      "Bad key animation.mencoder_args in file /home/ykaixin/.local/lib/python3.6/site-packages/matplotlib/mpl-data/stylelib/_classic_test.mplstyle, line 519 ('animation.mencoder_args:          # Additional arguments to pass to mencoder')\n",
      "You probably need to get an updated matplotlibrc file from\n",
      "https://github.com/matplotlib/matplotlib/blob/v3.3.2/matplotlibrc.template\n",
      "or from the matplotlib source distribution\n",
      "In /home/ykaixin/.local/lib/python3.6/site-packages/matplotlib/mpl-data/stylelib/_classic_test.mplstyle: \n",
      "The text.latex.preview rcparam was deprecated in Matplotlib 3.3 and will be removed two minor releases later.\n",
      "In /home/ykaixin/.local/lib/python3.6/site-packages/matplotlib/mpl-data/stylelib/_classic_test.mplstyle: \n",
      "The mathtext.fallback_to_cm rcparam was deprecated in Matplotlib 3.3 and will be removed two minor releases later.\n",
      "In /home/ykaixin/.local/lib/python3.6/site-packages/matplotlib/mpl-data/stylelib/_classic_test.mplstyle: Support for setting the 'mathtext.fallback_to_cm' rcParam is deprecated since 3.3 and will be removed two minor releases later; use 'mathtext.fallback : 'cm' instead.\n",
      "In /home/ykaixin/.local/lib/python3.6/site-packages/matplotlib/mpl-data/stylelib/_classic_test.mplstyle: \n",
      "The validate_bool_maybe_none function was deprecated in Matplotlib 3.3 and will be removed two minor releases later.\n",
      "In /home/ykaixin/.local/lib/python3.6/site-packages/matplotlib/mpl-data/stylelib/_classic_test.mplstyle: \n",
      "The savefig.jpeg_quality rcparam was deprecated in Matplotlib 3.3 and will be removed two minor releases later.\n",
      "In /home/ykaixin/.local/lib/python3.6/site-packages/matplotlib/mpl-data/stylelib/_classic_test.mplstyle: \n",
      "The keymap.all_axes rcparam was deprecated in Matplotlib 3.3 and will be removed two minor releases later.\n",
      "In /home/ykaixin/.local/lib/python3.6/site-packages/matplotlib/mpl-data/stylelib/_classic_test.mplstyle: \n",
      "The animation.avconv_path rcparam was deprecated in Matplotlib 3.3 and will be removed two minor releases later.\n",
      "In /home/ykaixin/.local/lib/python3.6/site-packages/matplotlib/mpl-data/stylelib/_classic_test.mplstyle: \n",
      "The animation.avconv_args rcparam was deprecated in Matplotlib 3.3 and will be removed two minor releases later.\n"
     ]
    },
    {
     "ename": "TypeError",
     "evalue": "'NoneType' object is not iterable",
     "output_type": "error",
     "traceback": [
      "\u001b[0;31m---------------------------------------------------------------------------\u001b[0m",
      "\u001b[0;31mTypeError\u001b[0m                                 Traceback (most recent call last)",
      "\u001b[0;32m<ipython-input-6-62099286ed8e>\u001b[0m in \u001b[0;36m<module>\u001b[0;34m\u001b[0m\n\u001b[1;32m     62\u001b[0m \u001b[0;31m# Image(filename=results_dir+'/sample_%d.jpg' % idx)\u001b[0m\u001b[0;34m\u001b[0m\u001b[0;34m\u001b[0m\u001b[0;34m\u001b[0m\u001b[0m\n\u001b[1;32m     63\u001b[0m \u001b[0;34m\u001b[0m\u001b[0m\n\u001b[0;32m---> 64\u001b[0;31m \u001b[0mprint_test\u001b[0m\u001b[0;34m(\u001b[0m\u001b[0;36m8\u001b[0m\u001b[0;34m)\u001b[0m\u001b[0;34m\u001b[0m\u001b[0;34m\u001b[0m\u001b[0m\n\u001b[0m\u001b[1;32m     65\u001b[0m \u001b[0;34m\u001b[0m\u001b[0m\n\u001b[1;32m     66\u001b[0m \u001b[0;32mfrom\u001b[0m \u001b[0mIPython\u001b[0m\u001b[0;34m.\u001b[0m\u001b[0mdisplay\u001b[0m \u001b[0;32mimport\u001b[0m \u001b[0mImage\u001b[0m\u001b[0;34m\u001b[0m\u001b[0;34m\u001b[0m\u001b[0m\n",
      "\u001b[0;32m<ipython-input-6-62099286ed8e>\u001b[0m in \u001b[0;36mprint_test\u001b[0;34m(len)\u001b[0m\n\u001b[1;32m     38\u001b[0m         \u001b[0ma_real_test\u001b[0m \u001b[0;34m=\u001b[0m \u001b[0mVariable\u001b[0m\u001b[0;34m(\u001b[0m\u001b[0ma\u001b[0m\u001b[0;34m[\u001b[0m\u001b[0;36m0\u001b[0m\u001b[0;34m]\u001b[0m\u001b[0;34m,\u001b[0m \u001b[0mrequires_grad\u001b[0m\u001b[0;34m=\u001b[0m\u001b[0;32mTrue\u001b[0m\u001b[0;34m)\u001b[0m\u001b[0;34m\u001b[0m\u001b[0;34m\u001b[0m\u001b[0m\n\u001b[1;32m     39\u001b[0m         \u001b[0mb_real_test\u001b[0m \u001b[0;34m=\u001b[0m \u001b[0mVariable\u001b[0m\u001b[0;34m(\u001b[0m\u001b[0mb\u001b[0m\u001b[0;34m[\u001b[0m\u001b[0;36m0\u001b[0m\u001b[0;34m]\u001b[0m\u001b[0;34m,\u001b[0m \u001b[0mrequires_grad\u001b[0m\u001b[0;34m=\u001b[0m\u001b[0;32mTrue\u001b[0m\u001b[0;34m)\u001b[0m\u001b[0;34m\u001b[0m\u001b[0;34m\u001b[0m\u001b[0m\n\u001b[0;32m---> 40\u001b[0;31m         \u001b[0ma_real_test\u001b[0m\u001b[0;34m,\u001b[0m \u001b[0mb_real_test\u001b[0m \u001b[0;34m=\u001b[0m \u001b[0mutils\u001b[0m\u001b[0;34m.\u001b[0m\u001b[0mcuda\u001b[0m\u001b[0;34m(\u001b[0m\u001b[0;34m[\u001b[0m\u001b[0ma_real_test\u001b[0m\u001b[0;34m,\u001b[0m \u001b[0mb_real_test\u001b[0m\u001b[0;34m]\u001b[0m\u001b[0;34m)\u001b[0m\u001b[0;34m\u001b[0m\u001b[0;34m\u001b[0m\u001b[0m\n\u001b[0m\u001b[1;32m     41\u001b[0m         \u001b[0mGab\u001b[0m\u001b[0;34m.\u001b[0m\u001b[0meval\u001b[0m\u001b[0;34m(\u001b[0m\u001b[0;34m)\u001b[0m\u001b[0;34m\u001b[0m\u001b[0;34m\u001b[0m\u001b[0m\n\u001b[1;32m     42\u001b[0m         \u001b[0mGba\u001b[0m\u001b[0;34m.\u001b[0m\u001b[0meval\u001b[0m\u001b[0;34m(\u001b[0m\u001b[0;34m)\u001b[0m\u001b[0;34m\u001b[0m\u001b[0;34m\u001b[0m\u001b[0m\n",
      "\u001b[0;31mTypeError\u001b[0m: 'NoneType' object is not iterable"
     ]
    }
   ],
   "source": [
    "from PIL import Image\n",
    "import matplotlib.pyplot as plt\n",
    "\n",
    "def gen(idx=0):\n",
    "    itera = iter(a_test_loader)\n",
    "    iterb = iter(b_test_loader)\n",
    "    for i in range(idx+1):\n",
    "        a = itera.next()\n",
    "        b = iterb.next()\n",
    "    a_real_test = Variable(a[0], requires_grad=True)\n",
    "    b_real_test = Variable(b[0], requires_grad=True)\n",
    "    a_real_test, b_real_test = utils.cuda([a_real_test, b_real_test])\n",
    "            \n",
    "\n",
    "    Gab.eval()\n",
    "    Gba.eval()\n",
    "\n",
    "    with torch.no_grad():\n",
    "        a_fake_test = Gab(b_real_test)\n",
    "        b_fake_test = Gba(a_real_test)\n",
    "        a_recon_test = Gab(b_fake_test)\n",
    "        b_recon_test = Gba(a_fake_test)\n",
    "\n",
    "        pic = (torch.cat([a_real_test, b_fake_test], dim=0).data + 1) / 2.0\n",
    "\n",
    "        if not os.path.isdir(results_dir):\n",
    "            os.makedirs(results_dir)\n",
    "\n",
    "        torchvision.utils.save_image(pic, results_dir+'/sample_%d.jpg' % idx, nrow=3)\n",
    "\n",
    "def print_test(len):\n",
    "    itera = iter(a_test_loader)\n",
    "    iterb = iter(b_test_loader)\n",
    "    res = []\n",
    "    for i in range(len):\n",
    "        a = itera.next()\n",
    "        b = iterb.next()\n",
    "        a_real_test = Variable(a[0], requires_grad=True)\n",
    "        b_real_test = Variable(b[0], requires_grad=True)\n",
    "        a_real_test, b_real_test = utils.cuda([a_real_test, b_real_test])\n",
    "        Gab.eval()\n",
    "        Gba.eval()\n",
    "\n",
    "        with torch.no_grad():\n",
    "            a_fake_test = Gab(b_real_test)\n",
    "            b_fake_test = Gba(a_real_test)\n",
    "            a_recon_test = Gab(b_fake_test)\n",
    "            b_recon_test = Gba(a_fake_test)\n",
    "\n",
    "            res.extend([a_real_test, b_fake_test, b_real_test])\n",
    "\n",
    "    pic = (torch.cat(res, dim=0).data + 1) / 2.0\n",
    "\n",
    "    if not os.path.isdir(results_dir):\n",
    "        os.makedirs(results_dir)\n",
    "\n",
    "    torchvision.utils.save_image(pic, results_dir+'/result_%d.jpg' % ckpt['epoch'], nrow=6)\n",
    "\n",
    "# idx = 16\n",
    "# gen(idx)\n",
    "# from IPython.display import Image\n",
    "# Image(filename=results_dir+'/sample_%d.jpg' % idx) \n",
    "\n",
    "print_test(8)\n",
    "\n",
    "from IPython.display import Image\n",
    "Image(filename=results_dir+'/result_%d.jpg' % ckpt['epoch']) "
   ]
  },
  {
   "cell_type": "markdown",
   "metadata": {},
   "source": [
    "## Metrics\n",
    "\n",
    "Test and generate colourings --> then use metric"
   ]
  },
  {
   "cell_type": "code",
   "execution_count": 7,
   "metadata": {},
   "outputs": [],
   "source": [
    "def readImage(path):\n",
    "    return cv2.imread(path)\n",
    "\n",
    "def computeMetrics(imga, imgb):\n",
    "    hsv_base = cv2.cvtColor(imga, cv2.COLOR_BGR2HSV)\n",
    "    hsv_test1 = cv2.cvtColor(imgb, cv2.COLOR_BGR2HSV)\n",
    "    h_bins = 50\n",
    "    s_bins = 60\n",
    "    v_bins = 60\n",
    "    histSize = [h_bins, s_bins, v_bins]\n",
    "    # hue varies from 0 to 179, saturation from 0 to 255, value from 0 to 255\n",
    "    h_ranges = [0, 180]\n",
    "    s_ranges = [0, 256]\n",
    "    v_ranges = [0, 256]\n",
    "    ranges = h_ranges + s_ranges + v_ranges# concat lists\n",
    "    # Use 0,1,2nd channels\n",
    "    channels = [0, 1, 2]\n",
    "    hist_base = cv2.calcHist([hsv_base], channels, None, histSize, ranges, accumulate=False)\n",
    "    cv2.normalize(hist_base, hist_base, alpha=0, beta=1, norm_type=cv2.NORM_MINMAX)\n",
    "    hist_test1 = cv2.calcHist([hsv_test1], channels, None, histSize, ranges, accumulate=False)\n",
    "    cv2.normalize(hist_test1, hist_test1, alpha=0, beta=1, norm_type=cv2.NORM_MINMAX)\n",
    "    # compare_method = {0: 'correlation', 1: 'chi-square', 2: 'intersection', 3: 'Bhattacharyya'}\n",
    "    corr = cv2.compareHist(hist_base, hist_test1, 0)\n",
    "    chisq = cv2.compareHist(hist_base, hist_test1, 1)\n",
    "    intersectn = cv2.compareHist(hist_base, hist_test1, 2)\n",
    "    bhat = cv2.compareHist(hist_base, hist_test1, 3)\n",
    "    \n",
    "    print('HistCompare_correlation: ', corr)\n",
    "    print('HistCompare_chi_square: ', chisq)\n",
    "    print('HistCompare_intersction: ', intersectn)\n",
    "    print('HistCompare_bhat: ', bhat)"
   ]
  },
  {
   "cell_type": "code",
   "execution_count": 33,
   "metadata": {},
   "outputs": [
    {
     "data": {
      "image/png": "[encoded data removed]",
      "text/plain": [
       "<Figure size 432x288 with 2 Axes>"
      ]
     },
     "metadata": {
      "needs_background": "light"
     },
     "output_type": "display_data"
    }
   ],
   "source": [
    "imga = readImage('./datasets/sketch2pokemon/testB/90_B.jpg')\n",
    "imgb = readImage('./datasets/sketch2pokemon/testB/9_B.jpg')\n",
    "\n",
    "import matplotlib.pyplot as plt\n",
    "plt.subplot(121)\n",
    "plt.imshow(imga)\n",
    "plt.subplot(122)\n",
    "plt.imshow(imgb)\n",
    "plt.show()"
   ]
  },
  {
   "cell_type": "code",
   "execution_count": 18,
   "metadata": {},
   "outputs": [
    {
     "name": "stdout",
     "output_type": "stream",
     "text": [
      "HistCompare_correlation:  1.0\n",
      "HistCompare_chi_square:  0.0\n",
      "HistCompare_intersction:  3.0995080839202274\n",
      "HistCompare_bhat:  0.0\n"
     ]
    }
   ],
   "source": [
    "computeMetrics(imga, imgb) #exact same ghastly"
   ]
  },
  {
   "cell_type": "code",
   "execution_count": 26,
   "metadata": {},
   "outputs": [
    {
     "name": "stdout",
     "output_type": "stream",
     "text": [
      "HistCompare_correlation:  1.0\n",
      "HistCompare_chi_square:  0.0\n",
      "HistCompare_intersction:  1.9458432234896463\n",
      "HistCompare_bhat:  1.0536712127723509e-08\n"
     ]
    }
   ],
   "source": [
    "computeMetrics(imga, imgb) #onix onix"
   ]
  },
  {
   "cell_type": "markdown",
   "metadata": {},
   "source": [
    "from here can see that intersection and bhat is not ideal cus dif values despite identity"
   ]
  },
  {
   "cell_type": "code",
   "execution_count": 20,
   "metadata": {},
   "outputs": [
    {
     "name": "stdout",
     "output_type": "stream",
     "text": [
      "HistCompare_correlation:  0.9799285476041358\n",
      "HistCompare_chi_square:  2.0154848364415345\n",
      "HistCompare_intersction:  1.0820836799575773\n",
      "HistCompare_bhat:  0.6975679657159936\n"
     ]
    }
   ],
   "source": [
    "computeMetrics(imga, imgb) #ghastly haunter"
   ]
  },
  {
   "cell_type": "code",
   "execution_count": 22,
   "metadata": {},
   "outputs": [
    {
     "name": "stdout",
     "output_type": "stream",
     "text": [
      "HistCompare_correlation:  0.9736436601484993\n",
      "HistCompare_chi_square:  2.1930900109101694\n",
      "HistCompare_intersction:  1.0864145131054102\n",
      "HistCompare_bhat:  0.758480429005484\n"
     ]
    }
   ],
   "source": [
    "computeMetrics(imga, imgb) #ghastly gengar"
   ]
  },
  {
   "cell_type": "code",
   "execution_count": 24,
   "metadata": {},
   "outputs": [
    {
     "name": "stdout",
     "output_type": "stream",
     "text": [
      "HistCompare_correlation:  0.9783083282890952\n",
      "HistCompare_chi_square:  2.4059933619973037\n",
      "HistCompare_intersction:  1.0692740663944278\n",
      "HistCompare_bhat:  0.7401755124697869\n"
     ]
    }
   ],
   "source": [
    "computeMetrics(imga, imgb) #ghastly onix"
   ]
  },
  {
   "cell_type": "code",
   "execution_count": 28,
   "metadata": {},
   "outputs": [
    {
     "name": "stdout",
     "output_type": "stream",
     "text": [
      "HistCompare_correlation:  0.969588566348377\n",
      "HistCompare_chi_square:  10.879578888325456\n",
      "HistCompare_intersction:  1.1577566423584358\n",
      "HistCompare_bhat:  0.7142052625568617\n"
     ]
    }
   ],
   "source": [
    "computeMetrics(imga, imgb) #ghastly mutant_drowzee"
   ]
  },
  {
   "cell_type": "markdown",
   "metadata": {},
   "source": [
    "chisq seems gd ah"
   ]
  },
  {
   "cell_type": "code",
   "execution_count": 34,
   "metadata": {},
   "outputs": [
    {
     "name": "stdout",
     "output_type": "stream",
     "text": [
      "HistCompare_correlation:  0.9767693072593291\n",
      "HistCompare_chi_square:  2.3627164266046816\n",
      "HistCompare_intersction:  1.129925356239255\n",
      "HistCompare_bhat:  0.7505798071510059\n"
     ]
    }
   ],
   "source": [
    "computeMetrics(imga, imgb) #ghastly caterpie"
   ]
  },
  {
   "cell_type": "code",
   "execution_count": 8,
   "metadata": {
    "jupyter": {
     "source_hidden": true
    }
   },
   "outputs": [],
   "source": [
    "def save_sample_image(test_length):\n",
    "    temp_dir = './temp'\n",
    "    itera = iter(a_test_loader)\n",
    "    iterb = iter(b_test_loader)\n",
    "    res = []\n",
    "    average_hist_score_correlation = 0.0\n",
    "    average_hist_score_chi_square = 0.0\n",
    "    average_hist_score_intersction = 0.0\n",
    "    average_hist_score_bhat = 0.0\n",
    "    for i in range(test_length):\n",
    "        a = itera.next()\n",
    "        b = iterb.next()\n",
    "        a_real_test = Variable(a[0], requires_grad=True)\n",
    "        b_real_test = Variable(b[0], requires_grad=True)\n",
    "        a_real_test, b_real_test = utils.cuda([a_real_test, b_real_test])\n",
    "        Gab.eval()\n",
    "        Gba.eval()\n",
    "\n",
    "        with torch.no_grad():\n",
    "            # a_fake_test = self.Gab(b_real_test)\n",
    "            b_fake_test = Gba(a_real_test)\n",
    "            # a_recon_test = self.Gab(b_fake_test)\n",
    "            # b_recon_test = self.Gba(a_fake_test)\n",
    "\n",
    "            res.extend([a_real_test, b_fake_test, b_real_test])\n",
    "\n",
    "            ##### Generate histogram similarity score\n",
    "            # Documentation: https://docs.opencv.org/3.4/d8/dc8/tutorial_histogram_comparison.html\n",
    "            torchvision.utils.save_image(b_fake_test.cpu(), temp_dir + '/model_output' + i + '.jpg')\n",
    "            torchvision.utils.save_image(b_real_test.cpu(), temp_dir + '/groundtruth' + i + '.jpg')\n",
    "            src_base = cv2.imread(temp_dir + '/groundtruth.jpg')\n",
    "            src_test1 = cv2.imread(temp_dir + '/model_output.jpg')\n",
    "            hsv_base = cv2.cvtColor(src_base, cv2.COLOR_BGR2HSV)\n",
    "            hsv_test1 = cv2.cvtColor(src_test1, cv2.COLOR_BGR2HSV)\n",
    "            h_bins = 50\n",
    "            s_bins = 60\n",
    "            v_bins = 60\n",
    "            histSize = [h_bins, s_bins, v_bins]\n",
    "            # hue varies from 0 to 179, saturation from 0 to 255, value from 0 to 255\n",
    "            h_ranges = [0, 180]\n",
    "            s_ranges = [0, 256]\n",
    "            v_ranges = [0, 256]\n",
    "            ranges = h_ranges + s_ranges + v_ranges# concat lists\n",
    "            # Use 0,1,2nd channels\n",
    "            channels = [0, 1, 2]\n",
    "            hist_base = cv2.calcHist([hsv_base], channels, None, histSize, ranges, accumulate=False)\n",
    "            cv2.normalize(hist_base, hist_base, alpha=0, beta=1, norm_type=cv2.NORM_MINMAX)\n",
    "            hist_test1 = cv2.calcHist([hsv_test1], channels, None, histSize, ranges, accumulate=False)\n",
    "            cv2.normalize(hist_test1, hist_test1, alpha=0, beta=1, norm_type=cv2.NORM_MINMAX)\n",
    "            # compare_method = {0: 'correlation', 1: 'chi-square', 2: 'intersection', 3: 'Bhattacharyya'}\n",
    "            corr = cv2.compareHist(hist_base, hist_test1, 0)\n",
    "            average_hist_score_correlation += corr\n",
    "            chisq = cv2.compareHist(hist_base, hist_test1, 1)\n",
    "            average_hist_score_chi_square += chisq\n",
    "            intersectn = cv2.compareHist(hist_base, hist_test1, 2)\n",
    "            average_hist_score_intersction += intersectn\n",
    "            bhat = cv2.compareHist(hist_base, hist_test1, 3)\n",
    "            average_hist_score_bhat += bhat\n",
    "            # os.remove(temp_dir + '/model_output.jpg')\n",
    "            # os.remove(temp_dir + '/groundtruth.jpg')\n",
    "            print('HistCompare_correlation: ', corr)\n",
    "            print('HistCompare_chi_square: ', chisq)\n",
    "            print('HistCompare_intersction: ', intersectn)\n",
    "            print('HistCompare_bhat: ', bhat)\n",
    "\n",
    "    print('aveHistCompare_correlation: ', average_hist_score_correlation / test_length)\n",
    "    print('aveHistCompare_chi_square: ', average_hist_score_chi_square / test_length)\n",
    "    print('aveHistCompare_intersction: ', average_hist_score_intersction / test_length)\n",
    "    print('aveHistCompare_bhat: ', average_hist_score_bhat / test_length)\n"
   ]
  },
  {
   "cell_type": "code",
   "execution_count": 9,
   "metadata": {
    "jupyter": {
     "source_hidden": true
    }
   },
   "outputs": [
    {
     "ename": "TypeError",
     "evalue": "'NoneType' object is not iterable",
     "output_type": "error",
     "traceback": [
      "\u001b[0;31m---------------------------------------------------------------------------\u001b[0m",
      "\u001b[0;31mTypeError\u001b[0m                                 Traceback (most recent call last)",
      "\u001b[0;32m<ipython-input-9-6927e675f0b2>\u001b[0m in \u001b[0;36m<module>\u001b[0;34m\u001b[0m\n\u001b[0;32m----> 1\u001b[0;31m \u001b[0msave_sample_image\u001b[0m\u001b[0;34m(\u001b[0m\u001b[0;36m5\u001b[0m\u001b[0;34m)\u001b[0m\u001b[0;34m\u001b[0m\u001b[0;34m\u001b[0m\u001b[0m\n\u001b[0m",
      "\u001b[0;32m<ipython-input-8-4c1cc3a6909b>\u001b[0m in \u001b[0;36msave_sample_image\u001b[0;34m(test_length)\u001b[0m\n\u001b[1;32m     13\u001b[0m         \u001b[0ma_real_test\u001b[0m \u001b[0;34m=\u001b[0m \u001b[0mVariable\u001b[0m\u001b[0;34m(\u001b[0m\u001b[0ma\u001b[0m\u001b[0;34m[\u001b[0m\u001b[0;36m0\u001b[0m\u001b[0;34m]\u001b[0m\u001b[0;34m,\u001b[0m \u001b[0mrequires_grad\u001b[0m\u001b[0;34m=\u001b[0m\u001b[0;32mTrue\u001b[0m\u001b[0;34m)\u001b[0m\u001b[0;34m\u001b[0m\u001b[0;34m\u001b[0m\u001b[0m\n\u001b[1;32m     14\u001b[0m         \u001b[0mb_real_test\u001b[0m \u001b[0;34m=\u001b[0m \u001b[0mVariable\u001b[0m\u001b[0;34m(\u001b[0m\u001b[0mb\u001b[0m\u001b[0;34m[\u001b[0m\u001b[0;36m0\u001b[0m\u001b[0;34m]\u001b[0m\u001b[0;34m,\u001b[0m \u001b[0mrequires_grad\u001b[0m\u001b[0;34m=\u001b[0m\u001b[0;32mTrue\u001b[0m\u001b[0;34m)\u001b[0m\u001b[0;34m\u001b[0m\u001b[0;34m\u001b[0m\u001b[0m\n\u001b[0;32m---> 15\u001b[0;31m         \u001b[0ma_real_test\u001b[0m\u001b[0;34m,\u001b[0m \u001b[0mb_real_test\u001b[0m \u001b[0;34m=\u001b[0m \u001b[0mutils\u001b[0m\u001b[0;34m.\u001b[0m\u001b[0mcuda\u001b[0m\u001b[0;34m(\u001b[0m\u001b[0;34m[\u001b[0m\u001b[0ma_real_test\u001b[0m\u001b[0;34m,\u001b[0m \u001b[0mb_real_test\u001b[0m\u001b[0;34m]\u001b[0m\u001b[0;34m)\u001b[0m\u001b[0;34m\u001b[0m\u001b[0;34m\u001b[0m\u001b[0m\n\u001b[0m\u001b[1;32m     16\u001b[0m         \u001b[0mGab\u001b[0m\u001b[0;34m.\u001b[0m\u001b[0meval\u001b[0m\u001b[0;34m(\u001b[0m\u001b[0;34m)\u001b[0m\u001b[0;34m\u001b[0m\u001b[0;34m\u001b[0m\u001b[0m\n\u001b[1;32m     17\u001b[0m         \u001b[0mGba\u001b[0m\u001b[0;34m.\u001b[0m\u001b[0meval\u001b[0m\u001b[0;34m(\u001b[0m\u001b[0;34m)\u001b[0m\u001b[0;34m\u001b[0m\u001b[0;34m\u001b[0m\u001b[0m\n",
      "\u001b[0;31mTypeError\u001b[0m: 'NoneType' object is not iterable"
     ]
    }
   ],
   "source": [
    "save_sample_image(5)"
   ]
  }
 ],
 "metadata": {
  "kernelspec": {
   "display_name": "Python 3",
   "language": "python",
   "name": "python3"
  },
  "language_info": {
   "codemirror_mode": {
    "name": "ipython",
    "version": 3
   },
   "file_extension": ".py",
   "mimetype": "text/x-python",
   "name": "python",
   "nbconvert_exporter": "python",
   "pygments_lexer": "ipython3",
   "version": "3.6.9"
  }
 },
 "nbformat": 4,
 "nbformat_minor": 4
}
