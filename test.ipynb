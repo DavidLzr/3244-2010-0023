{
 "cells": [
  {
   "cell_type": "code",
   "execution_count": 42,
   "metadata": {},
   "outputs": [],
   "source": [
    "import os\n",
    "import cv2\n",
    "import numpy as np\n",
    "import torch\n",
    "from torch import nn\n",
    "from torch.autograd import Variable\n",
    "import torchvision\n",
    "import torchvision.datasets as dsets\n",
    "import torchvision.transforms as transfBhattacharyyaorms\n",
    "import utils\n",
    "from discriminators import define_Dis\n",
    "from generators import define_Gen\n",
    "import numpy as np"
   ]
  },
  {
   "cell_type": "code",
   "execution_count": 43,
   "metadata": {
    "tags": []
   },
   "outputs": [],
   "source": [
    "crop_height = 128\n",
    "crop_width = 128\n",
    "dataset_dir = './datasets/sketch2waterpokemon'\n",
    "checkpoint_dir = './checkpoints'\n",
    "checkpoint_name = 'latest'\n",
    "results_dir = './results'\n",
    "batch_size = 1\n",
    "ngf = 64\n",
    "norm = 'instance'\n",
    "no_dropout = False\n",
    "gpu_ids = []#[0]\n",
    "\n",
    "test_length = 5"
   ]
  },
  {
   "cell_type": "code",
   "execution_count": 6,
   "metadata": {
    "jupyter": {
     "source_hidden": true
    }
   },
   "outputs": [
    {
     "data": {
      "text/plain": [
       "{'trainA': './datasets/sketch2pokemon/ltrainA',\n",
       " 'trainB': './datasets/sketch2pokemon/ltrainB',\n",
       " 'testA': './datasets/sketch2pokemon/ltestA',\n",
       " 'testB': './datasets/sketch2pokemon/ltestB'}"
      ]
     },
     "execution_count": 6,
     "metadata": {},
     "output_type": "execute_result"
    }
   ],
   "source": [
    "utils.create_link(dataset_dir)"
   ]
  },
  {
   "cell_type": "code",
   "execution_count": 44,
   "metadata": {
    "tags": []
   },
   "outputs": [
    {
     "name": "stdout",
     "output_type": "stream",
     "text": [
      "Network initialized with weights sampled from N(0,0.02).\n",
      "Network initialized with weights sampled from N(0,0.02).\n",
      "------------Number of Parameters---------------\n",
      "[Network Gab] Total number of parameters : 11.378 M\n",
      "[Network Gba] Total number of parameters : 11.378 M\n",
      "-----------------------------------------------\n"
     ]
    }
   ],
   "source": [
    "transform = transforms.Compose(\n",
    "    [transforms.Resize((crop_height,crop_width)),\n",
    "        transforms.ToTensor(),\n",
    "        transforms.Normalize(mean=[0.5, 0.5, 0.5], std=[0.5, 0.5, 0.5])])\n",
    "\n",
    "dataset_dirs = utils.get_testdata_link(dataset_dir)\n",
    "\n",
    "a_test_data = dsets.ImageFolder(dataset_dirs['testA'], transform=transform)\n",
    "b_test_data = dsets.ImageFolder(dataset_dirs['testB'], transform=transform)\n",
    "\n",
    "\n",
    "a_test_loader = torch.utils.data.DataLoader(a_test_data, batch_size=batch_size, shuffle=False, num_workers=4) # set shuffle to false for testing\n",
    "b_test_loader = torch.utils.data.DataLoader(b_test_data, batch_size=batch_size, shuffle=False, num_workers=4)\n",
    "\n",
    "Gab = define_Gen(input_nc=3, output_nc=3, ngf=ngf, netG='resnet_9blocks', norm=norm, \n",
    "                                                use_dropout= not no_dropout, gpu_ids=gpu_ids)\n",
    "Gba = define_Gen(input_nc=3, output_nc=3, ngf=ngf, netG='resnet_9blocks', norm=norm, \n",
    "                                                use_dropout= not no_dropout, gpu_ids=gpu_ids)\n",
    "\n",
    "utils.print_networks([Gab,Gba], ['Gab','Gba'])"
   ]
  },
  {
   "cell_type": "code",
   "execution_count": 50,
   "metadata": {
    "jupyter": {
     "source_hidden": true
    },
    "tags": []
   },
   "outputs": [
    {
     "name": "stdout",
     "output_type": "stream",
     "text": [
      " [*] Loading checkpoint from ./checkpoints/latest.ckpt succeed!\n"
     ]
    }
   ],
   "source": [
    "try:\n",
    "    ckpt = utils.load_checkpoint('%s/%s.ckpt' % (checkpoint_dir, checkpoint_name))\n",
    "    Gab.load_state_dict(ckpt['Gab'])\n",
    "    Gba.load_state_dict(ckpt['Gba'])\n",
    "except:\n",
    "    print(' [*] No checkpoint!')"
   ]
  },
  {
   "cell_type": "code",
   "execution_count": 46,
   "metadata": {},
   "outputs": [],
   "source": [
    "a_train_loader = torch.utils.data.DataLoader(dsets.ImageFolder(utils.get_traindata_link(dataset_dir)['trainA'], transform=transform), \n",
    "                                                batch_size=batch_size, shuffle=False, num_workers=4)\n",
    "b_train_loader = torch.utils.data.DataLoader(dsets.ImageFolder(utils.get_traindata_link(dataset_dir)['trainB'], transform=transform), \n",
    "                                                batch_size=batch_size, shuffle=False, num_workers=4)"
   ]
  },
  {
   "cell_type": "code",
   "execution_count": 51,
   "metadata": {},
   "outputs": [
    {
     "data": {
      "image/jpeg": "[encoded data removed]",
      "text/plain": [
       "<IPython.core.display.Image object>"
      ]
     },
     "execution_count": 51,
     "metadata": {},
     "output_type": "execute_result"
    }
   ],
   "source": [
    "from PIL import Image\n",
    "import matplotlib.pyplot as plt\n",
    "\n",
    "def gen(idx=0):\n",
    "    itera = iter(a_test_loader)\n",
    "    iterb = iter(b_test_loader)\n",
    "    for i in range(idx+1):\n",
    "        a = itera.next()\n",
    "        b = iterb.next()\n",
    "    a_real_test = Variable(a[0], requires_grad=True)\n",
    "    b_real_test = Variable(b[0], requires_grad=True)\n",
    "    a_real_test, b_real_test = utils.cuda([a_real_test, b_real_test])\n",
    "            \n",
    "\n",
    "    Gab.eval()\n",
    "    Gba.eval()\n",
    "\n",
    "    with torch.no_grad():\n",
    "        a_fake_test = Gab(b_real_test)\n",
    "        b_fake_test = Gba(a_real_test)\n",
    "        a_recon_test = Gab(b_fake_test)\n",
    "        b_recon_test = Gba(a_fake_test)\n",
    "\n",
    "        pic = (torch.cat([a_real_test, b_fake_test], dim=0).data + 1) / 2.0\n",
    "\n",
    "        if not os.path.isdir(results_dir):\n",
    "            os.makedirs(results_dir)\n",
    "\n",
    "        torchvision.utils.save_image(pic, results_dir+'/sample_%d.jpg' % idx, nrow=3)\n",
    "\n",
    "def print_test(len):\n",
    "    correlation_scores, intersection_scores, bhat_scores = np.empty(len), np.empty(length), np.empty(length)\n",
    "    \n",
    "    itera = iter(a_test_loader)\n",
    "    iterb = iter(b_test_loader)\n",
    "    res = []\n",
    "    for i in range(len):\n",
    "        a = itera.next()\n",
    "        b = iterb.next()\n",
    "        a_real_test = Variable(a[0], requires_grad=True)\n",
    "        b_real_test = Variable(b[0], requires_grad=True)\n",
    "        a_real_test, b_real_test = utils.cuda([a_real_test, b_real_test])\n",
    "        Gab.eval()\n",
    "        Gba.eval()\n",
    "\n",
    "        with torch.no_grad():\n",
    "            a_fake_test = Gab(b_real_test)\n",
    "            b_fake_test = Gba(a_real_test)\n",
    "            a_recon_test = Gab(b_fake_test)\n",
    "            b_recon_test = Gba(a_fake_test)\n",
    "            bft = [b_fake_test]\n",
    "            bft = (torch.cat(bft, dim=0).data + 1) / 2.0\n",
    "            res.extend([a_real_test, b_fake_test, b_real_test])\n",
    "            torchvision.utils.save_image(bft, results_dir + '/output_%d.jpg' % i)\n",
    "#             npimg = b_fake_test.cpu().numpy().reshape(128, 128, 3)\n",
    "#             plt.imshow(np.transpose(npimg), interpolation='nearest')\n",
    "\n",
    "    cs_std = np.std(correlation_scores)\n",
    "    cs_mean = np.mean(correlation_scores)\n",
    "    is_std = np.std(intersection_scores)\n",
    "    is_mean = np.mean(intersection_scores)\n",
    "    bs_std = np.std(bhat_scores)\n",
    "    bs_mean = np.mean(bhat_scores)\n",
    "    print(\"----- AGGREGATE SCORES -----\")\n",
    "    print(\"Correlation: \", cs_mean, \" +- \", cs_std)\n",
    "    print(\"Intersection: \", is_mean, \" +- \", is_std)\n",
    "    print(\"Bhat score: \", bs_mean, \" +- \", bs_std)\n",
    "    print(\"\\n----- INDIVIDUAL SCORES -----\")\n",
    "    print(\"### Corr\")\n",
    "    print(correlation_scores)\n",
    "    print(\"### Inter\")\n",
    "    print(intersection_scores)\n",
    "    print(\"### Bhat\")\n",
    "    print(bhat_scores)\n",
    "    \n",
    "    pic = (torch.cat(res, dim=0).data + 1) / 2.0\n",
    "\n",
    "    if not os.path.isdir(results_dir):\n",
    "        os.makedirs(results_dir)\n",
    "\n",
    "    torchvision.utils.save_image(pic, results_dir+'/result_%d.jpg' % ckpt['epoch'], nrow=6)\n",
    "\n",
    "# idx = 16\n",
    "# gen(idx)\n",
    "# from IPython.display import Image\n",
    "# Image(filename=results_dir+'/sample_%d.jpg' % idx) \n",
    "\n",
    "print_test(8)\n",
    "\n",
    "from IPython.display import Image\n",
    "Image(filename=results_dir+'/result_%d.jpg' % ckpt['epoch']) "
   ]
  },
  {
   "cell_type": "markdown",
   "metadata": {},
   "source": [
    "# RUN THIS FOR METRICS YA :]"
   ]
  },
  {
   "cell_type": "code",
   "execution_count": 59,
   "metadata": {},
   "outputs": [],
   "source": [
    "import cv2\n",
    "\n",
    "def computeMetricsHSV(imga, imgb, isPrint=False):\n",
    "    hsv_base = cv2.cvtColor(imga, cv2.COLOR_BGR2HSV)\n",
    "    hsv_test1 = cv2.cvtColor(imgb, cv2.COLOR_BGR2HSV)\n",
    "    h_bins = 50\n",
    "    s_bins = 60\n",
    "    v_bins = 60\n",
    "    histSize = [h_bins, s_bins, v_bins]\n",
    "    # hue varies from 0 to 179, saturation from 0 to 255, value from 0 to 255\n",
    "    h_ranges = [0, 180]\n",
    "    s_ranges = [0, 256]\n",
    "    v_ranges = [0, 256]\n",
    "    ranges = h_ranges + s_ranges + v_ranges# concat lists\n",
    "    # Use 0,1,2nd channels\n",
    "    channels = [0, 1, 2]\n",
    "    hist_base = cv2.calcHist([hsv_base], channels, None, histSize, ranges, accumulate=False)\n",
    "    cv2.normalize(hist_base, hist_base, alpha=0, beta=1, norm_type=cv2.NORM_MINMAX)\n",
    "    hist_test1 = cv2.calcHist([hsv_test1], channels, None, histSize, ranges, accumulate=False)\n",
    "    cv2.normalize(hist_test1, hist_test1, alpha=0, beta=1, norm_type=cv2.NORM_MINMAX)\n",
    "    # compare_method = {0: 'correlation', 1: 'chi-square', 2: 'intersection', 3: 'Bhattacharyya'}\n",
    "    corr = cv2.compareHist(hist_base, hist_test1, 0)\n",
    "    chisq = cv2.compareHist(hist_base, hist_test1, 1)\n",
    "    intersectn = cv2.compareHist(hist_base, hist_test1, 2)\n",
    "    bhat = cv2.compareHist(hist_base, hist_test1, 3)\n",
    "    \n",
    "    if isPrint:\n",
    "        print('HistCompare_correlation: ', corr)\n",
    "        print('HistCompare_chi_square: ', chisq)\n",
    "        print('HistCompare_intersction: ', intersectn)\n",
    "        print('HistCompare_bhat: ', bhat)\n",
    "    \n",
    "    return corr, chisq, intersectn, bhat\n",
    "\n",
    "def computeMetrics(imga, imgb, isPrint=False):\n",
    "    hsv_base = imga\n",
    "    hsv_test1 = imgb\n",
    "    h_bins = 50\n",
    "    s_bins = 60\n",
    "    v_bins = 60\n",
    "    histSize = [h_bins, s_bins, v_bins]\n",
    "    # hue varies from 0 to 179, saturation from 0 to 255, value from 0 to 255\n",
    "    h_ranges = [0, 256]\n",
    "    s_ranges = [0, 256]\n",
    "    v_ranges = [0, 256]\n",
    "    ranges = h_ranges + s_ranges + v_ranges# concat lists\n",
    "    # Use 0,1,2nd channels\n",
    "    channels = [0, 1, 2]\n",
    "    hist_base = cv2.calcHist([hsv_base], channels, None, histSize, ranges, accumulate=False)\n",
    "    cv2.normalize(hist_base, hist_base, alpha=0, beta=1, norm_type=cv2.NORM_MINMAX)\n",
    "    hist_test1 = cv2.calcHist([hsv_test1], channels, None, histSize, ranges, accumulate=False)\n",
    "    cv2.normalize(hist_test1, hist_test1, alpha=0, beta=1, norm_type=cv2.NORM_MINMAX)\n",
    "    # compare_method = {0: 'correlation', 1: 'chi-square', 2: 'intersection', 3: 'Bhattacharyya'}\n",
    "    corr = cv2.compareHist(hist_base, hist_test1, 0)\n",
    "    chisq = cv2.compareHist(hist_base, hist_test1, 1)\n",
    "    intersectn = cv2.compareHist(hist_base, hist_test1, 2)\n",
    "    bhat = cv2.compareHist(hist_base, hist_test1, 3)\n",
    "    \n",
    "    if isPrint:\n",
    "        print('HistCompare_correlation: ', corr)\n",
    "        print('HistCompare_chi_square: ', chisq)\n",
    "        print('HistCompare_intersction: ', intersectn)\n",
    "        print('HistCompare_bhat: ', bhat)\n",
    "    \n",
    "    return corr, chisq, intersectn, bhat"
   ]
  },
  {
   "cell_type": "code",
   "execution_count": 68,
   "metadata": {},
   "outputs": [
    {
     "name": "stdout",
     "output_type": "stream",
     "text": [
      "chi squared (smaller)\n",
      "baseline:  2.880507752587195 1.8092273386451918\n",
      "improved:  4.073060507422588 1.652890500933628\n",
      "intersection (larger)\n",
      "baseline:  1.108153558150434 0.017088739056076253\n",
      "improved:  1.1567214085528121 0.030777684186923192\n",
      "bhat (smaller)\n",
      "baseline:  0.6692828576323104 0.05518103758277951\n",
      "improved:  0.649224437940007 0.051872437849332584\n"
     ]
    }
   ],
   "source": [
    "baseline_corr, baseline_chisq, baseline_inter, baseline_bhat = [],[],[],[]\n",
    "improved_corr, improved_chisq, improved_inter, improved_bhat = [],[],[],[]\n",
    "for i in range(8):\n",
    "    truth = cv2.imread(results_dir + '/metrics_comparison/water_truth/output_%d.jpg' % i)\n",
    "    baseline = cv2.imread(results_dir + '/metrics_comparison/water_baseline/output_%d.jpg' % i)\n",
    "    improved = cv2.imread(results_dir + '/metrics_comparison/water_ours/output_%d.jpg' % i)\n",
    "    a,b,c,d = computeMetricsHSV(baseline, truth)\n",
    "    baseline_corr.append(a)\n",
    "    baseline_chisq.append(b)\n",
    "    baseline_inter.append(c)\n",
    "    baseline_bhat.append(d)\n",
    "    a,b,c,d = computeMetricsHSV(improved, truth)\n",
    "    improved_corr.append(a)\n",
    "    improved_chisq.append(b)\n",
    "    improved_inter.append(c)\n",
    "    improved_bhat.append(d)\n",
    "print(\"chi squared (smaller)\")\n",
    "print(\"baseline: \", np.mean(baseline_chisq), np.std(baseline_chisq))\n",
    "print(\"improved: \", np.mean(improved_chisq), np.std(improved_chisq))\n",
    "print(\"intersection (larger)\")\n",
    "print(\"baseline: \", np.mean(baseline_inter), np.std(baseline_inter))\n",
    "print(\"improved: \", np.mean(improved_inter), np.std(improved_inter))\n",
    "print(\"bhat (smaller)\")\n",
    "print(\"baseline: \", np.mean(baseline_bhat), np.std(baseline_bhat))\n",
    "print(\"improved: \", np.mean(improved_bhat), np.std(improved_bhat))"
   ]
  },
  {
   "cell_type": "code",
   "execution_count": null,
   "metadata": {},
   "outputs": [],
   "source": [
    "import cv2\n",
    "import numpy as np\n",
    "import matplotlib.pyplot as plt\n",
    "\n",
    "import eval_utils as Utils"
   ]
  },
  {
   "cell_type": "code",
   "execution_count": 69,
   "metadata": {},
   "outputs": [],
   "source": [
    "def readImage(path):\n",
    "    return cv2.imread(path)\n",
    "\n",
    "def computeMetrics(imga, imgb, isPrint=False):\n",
    "    hsv_base = cv2.cvtColor(imga, cv2.COLOR_BGR2HSV)\n",
    "    hsv_test1 = cv2.cvtColor(imgb, cv2.COLOR_BGR2HSV)\n",
    "    h_bins = 50\n",
    "    s_bins = 60\n",
    "    v_bins = 60\n",
    "    histSize = [h_bins, s_bins, v_bins]\n",
    "    # hue varies from 0 to 179, saturation from 0 to 255, value from 0 to 255\n",
    "    h_ranges = [0, 180]\n",
    "    s_ranges = [0, 256]\n",
    "    v_ranges = [0, 256]\n",
    "    ranges = h_ranges + s_ranges + v_ranges# concat lists\n",
    "    # Use 0,1,2nd channels\n",
    "    channels = [0, 1, 2]\n",
    "    hist_base = cv2.calcHist([hsv_base], channels, None, histSize, ranges, accumulate=False)\n",
    "    cv2.normalize(hist_base, hist_base, alpha=0, beta=1, norm_type=cv2.NORM_MINMAX)\n",
    "    hist_test1 = cv2.calcHist([hsv_test1], channels, None, histSize, ranges, accumulate=False)\n",
    "    cv2.normalize(hist_test1, hist_test1, alpha=0, beta=1, norm_type=cv2.NORM_MINMAX)\n",
    "    # compare_method = {0: 'correlation', 1: 'chi-square', 2: 'intersection', 3: 'Bhattacharyya'}\n",
    "    corr = cv2.compareHist(hist_base, hist_test1, 0)\n",
    "    chisq = cv2.compareHist(hist_base, hist_test1, 1)\n",
    "    intersectn = cv2.compareHist(hist_base, hist_test1, 2)\n",
    "    bhat = cv2.compareHist(hist_base, hist_test1, 3)\n",
    "    \n",
    "    if isPrint:\n",
    "        print('HistCompare_correlation: ', corr)\n",
    "        print('HistCompare_chi_square: ', chisq)\n",
    "        print('HistCompare_intersction: ', intersectn)\n",
    "        print('HistCompare_bhat: ', bhat)\n",
    "    \n",
    "    return corr, chisq, intersectn, bhat\n",
    "    \n",
    "# Utils.ssim_score(img1, img2, data_range=1.0)\n",
    "# Utils.psnr_score(img1, img2)\n",
    "### Utils.inception_score()\n",
    "\n",
    "def spatialBinnedMetrics(imga, imgb, num_hor=4, num_ver=4):\n",
    "    # default 4 x 4\n",
    "    #assume a and b same shape\n",
    "    print(imga.shape)\n",
    "    h,w, _ = imga.shape\n",
    "    dx = int(w / num_hor)\n",
    "    dy = int(h / num_ver)\n",
    "    \n",
    "    corr, chisq, inter, bhat = 0,0,0,0\n",
    "    for i in range(num_ver):\n",
    "        for j in range(num_hor):\n",
    "            patch_a = imga[i*dy : (i+1)*dy, j*dx : (j+1)*dx]\n",
    "            patch_b = imgb[i*dy : (i+1)*dy, j*dx : (j+1)*dx]\n",
    "            co, cs, inte, bh = computeMetrics(patch_a, patch_b)\n",
    "            corr += co\n",
    "            chisq += cs\n",
    "            inter += inte\n",
    "            bhat += bh\n",
    "    corr /= num_hor * num_ver\n",
    "    chisq /= num_hor * num_ver\n",
    "    inter /= num_hor * num_ver\n",
    "    bhat /= num_hor * num_ver\n",
    "    \n",
    "    print(\"\\nfinal: -----\")\n",
    "    print(\"correlation: \", corr)\n",
    "    print(\"chi square: \", chisq)\n",
    "    print(\"intersection: \", inter)\n",
    "    print(\"bhat: \", bhat)\n",
    "    \n",
    "    return corr, chisq, inter, bhat\n",
    "            \n",
    "            \n",
    "#     raise NotImplementedError()"
   ]
  },
  {
   "cell_type": "code",
   "execution_count": 11,
   "metadata": {},
   "outputs": [],
   "source": [
    "pokemon = ['lapras, omastar, staryu, dunspace'] #bbyy\n",
    "testevaldir = './datasets/test_metrics/'\n",
    "imgType = ['_grey.jpg', '_res.jpg', '.jpg']"
   ]
  },
  {
   "cell_type": "code",
   "execution_count": 15,
   "metadata": {},
   "outputs": [
    {
     "data": {
      "image/png": "[encoded data removed]",
      "text/plain": [
       "<Figure size 432x288 with 3 Axes>"
      ]
     },
     "metadata": {
      "needs_background": "light"
     },
     "output_type": "display_data"
    }
   ],
   "source": [
    "# img1path = './datasets/sketch2pokemon/testB/90_B.jpg'\n",
    "# img2path = './datasets/sketch2pokemon/testB/91_B.jpg'\n",
    "# poke = pokemon[0]\n",
    "# img2path = testevaldir+poke+imgType[2]\n",
    "# img1path = testevaldir+poke+imgType[0]\n",
    "img1path = './datasets/test_metrics/omastar_grey.jpg'\n",
    "img2path = './datasets/test_metrics/omastar_res.jpg'\n",
    "img3path = './datasets/test_metrics/omastar.jpg'\n",
    "\n",
    "imga = readImage(img1path)\n",
    "imgb = readImage(img2path)\n",
    "imgc = readImage(img3path)\n",
    "\n",
    "plt.subplot(131)\n",
    "plt.imshow(imga)\n",
    "plt.subplot(132)\n",
    "plt.imshow(imgb)\n",
    "plt.subplot(133)\n",
    "plt.imshow(imgc)\n",
    "plt.show()"
   ]
  },
  {
   "cell_type": "code",
   "execution_count": 66,
   "metadata": {},
   "outputs": [],
   "source": [
    "def eval_print(label, img1, img2, isPrint=False):\n",
    "    print(label, \"-----\")\n",
    "    print(\"ssim: \", Utils.ssim_score(img1, img2, data_range=1.0))\n",
    "    print(\"psnr: \", Utils.psnr_score(img1, img2))\n",
    "    computeMetrics(img1, img2, isPrint=isPrint)"
   ]
  },
  {
   "cell_type": "markdown",
   "metadata": {},
   "source": [
    "### Dunspace eg"
   ]
  },
  {
   "cell_type": "code",
   "execution_count": 46,
   "metadata": {},
   "outputs": [
    {
     "name": "stdout",
     "output_type": "stream",
     "text": [
      "# GREY -----\n",
      "ssim:  0.6555545853036059\n",
      "psnr:  -15.866849904587177\n",
      "HistCompare_correlation:  0.9680611559673097\n",
      "HistCompare_chi_square:  0.649104106234767\n",
      "HistCompare_intersction:  1.0276446732168552\n",
      "HistCompare_bhat:  0.7173556032913327\n",
      "# RES -----\n",
      "ssim:  0.5101829934490879\n",
      "psnr:  -16.18619808043366\n",
      "HistCompare_correlation:  0.9923309905646013\n",
      "HistCompare_chi_square:  2.0146916625546196\n",
      "HistCompare_intersction:  1.659558443876449\n",
      "HistCompare_bhat:  0.5560911664814896\n",
      "# IDENTITY -----\n",
      "ssim:  1.0\n",
      "psnr:  inf\n",
      "HistCompare_correlation:  1.0\n",
      "HistCompare_chi_square:  0.0\n",
      "HistCompare_intersction:  3.0195355681644287\n",
      "HistCompare_bhat:  0.0\n"
     ]
    }
   ],
   "source": [
    "eval_print(\"# GREY\", imga, imgc) #dunspace\n",
    "eval_print('# RES', imgb, imgc)\n",
    "eval_print('# IDENTITY', imgc, imgc)"
   ]
  },
  {
   "cell_type": "code",
   "execution_count": 57,
   "metadata": {},
   "outputs": [
    {
     "name": "stdout",
     "output_type": "stream",
     "text": [
      "(128, 128, 3)\n",
      "\n",
      "final: -----\n",
      "correlation:  0.6343935906233442\n",
      "chi square:  1.4701245766612476\n",
      "intersection:  0.8952105891803512\n",
      "bhat:  0.6932177567258963\n",
      "(128, 128, 3)\n",
      "\n",
      "final: -----\n",
      "correlation:  0.729458505909253\n",
      "chi square:  21.800707429709874\n",
      "intersection:  2.7953753328256425\n",
      "bhat:  0.6183805415670456\n",
      "(128, 128, 3)\n",
      "\n",
      "final: -----\n",
      "correlation:  1.0\n",
      "chi square:  0.0\n",
      "intersection:  16.14142613601871\n",
      "bhat:  3.2927225399135964e-09\n"
     ]
    },
    {
     "data": {
      "text/plain": [
       "(1.0, 0.0, 16.14142613601871, 3.2927225399135964e-09)"
      ]
     },
     "execution_count": 57,
     "metadata": {},
     "output_type": "execute_result"
    }
   ],
   "source": [
    "spatialBinnedMetrics(imga, imgc)\n",
    "spatialBinnedMetrics(imgb, imgc)\n",
    "spatialBinnedMetrics(imgc, imgc)"
   ]
  },
  {
   "cell_type": "markdown",
   "metadata": {},
   "source": [
    "### Staryu eg"
   ]
  },
  {
   "cell_type": "code",
   "execution_count": 44,
   "metadata": {},
   "outputs": [
    {
     "name": "stdout",
     "output_type": "stream",
     "text": [
      "# GREY -----\n",
      "ssim:  0.695588760439142\n",
      "psnr:  -16.918313966645833\n",
      "HistCompare_correlation:  0.9442322500173828\n",
      "HistCompare_chi_square:  1.1837266293437905\n",
      "HistCompare_intersction:  1.0252829280216247\n",
      "HistCompare_bhat:  0.8025067223090334\n",
      "# RES -----\n",
      "ssim:  0.577801051244594\n",
      "psnr:  -17.615392893873494\n",
      "HistCompare_correlation:  0.9757632635550221\n",
      "HistCompare_chi_square:  5.822236185940446\n",
      "HistCompare_intersction:  2.218782646494219\n",
      "HistCompare_bhat:  0.584806027925525\n",
      "# IDENTITY -----\n",
      "ssim:  1.0\n",
      "psnr:  inf\n",
      "HistCompare_correlation:  1.0\n",
      "HistCompare_chi_square:  0.0\n",
      "HistCompare_intersction:  3.945099853735883\n",
      "HistCompare_bhat:  0.0\n"
     ]
    }
   ],
   "source": [
    "eval_print(\"# GREY\", imga, imgc) #staryu\n",
    "eval_print('# RES', imgb, imgc)\n",
    "eval_print('# IDENTITY', imgc, imgc)"
   ]
  },
  {
   "cell_type": "code",
   "execution_count": 59,
   "metadata": {},
   "outputs": [
    {
     "name": "stdout",
     "output_type": "stream",
     "text": [
      "(128, 128, 3)\n",
      "\n",
      "final: -----\n",
      "correlation:  0.5608034675246332\n",
      "chi square:  3.6473879172331434\n",
      "intersection:  0.7570859762781765\n",
      "bhat:  0.781852030530714\n",
      "(128, 128, 3)\n",
      "\n",
      "final: -----\n",
      "correlation:  0.5968094809153316\n",
      "chi square:  22.326962635900497\n",
      "intersection:  2.7734927202327526\n",
      "bhat:  0.7121815692874879\n",
      "(128, 128, 3)\n",
      "\n",
      "final: -----\n",
      "correlation:  1.0\n",
      "chi square:  0.0\n",
      "intersection:  24.710439540205698\n",
      "bhat:  1.975633523948158e-09\n"
     ]
    },
    {
     "data": {
      "text/plain": [
       "(1.0, 0.0, 24.710439540205698, 1.975633523948158e-09)"
      ]
     },
     "execution_count": 59,
     "metadata": {},
     "output_type": "execute_result"
    }
   ],
   "source": [
    "spatialBinnedMetrics(imga, imgc)\n",
    "spatialBinnedMetrics(imgb, imgc)\n",
    "spatialBinnedMetrics(imgc, imgc)"
   ]
  },
  {
   "cell_type": "markdown",
   "metadata": {},
   "source": [
    "### lapras eg"
   ]
  },
  {
   "cell_type": "code",
   "execution_count": 67,
   "metadata": {},
   "outputs": [
    {
     "name": "stdout",
     "output_type": "stream",
     "text": [
      "# GREY -----\n",
      "ssim:  0.7379370704624306\n",
      "psnr:  -15.9009658142365\n",
      "HistCompare_correlation:  0.9812889588928655\n",
      "HistCompare_chi_square:  1.1349482440203553\n",
      "HistCompare_intersction:  1.0324710920831421\n",
      "HistCompare_bhat:  0.7083211042521314\n",
      "# RES -----\n",
      "ssim:  0.506196238171216\n",
      "psnr:  -16.75334500960883\n",
      "HistCompare_correlation:  0.9731962900014445\n",
      "HistCompare_chi_square:  2.0000839017985843\n",
      "HistCompare_intersction:  1.6246584836480906\n",
      "HistCompare_bhat:  0.5971450981746639\n",
      "# IDENTITY -----\n",
      "ssim:  1.0\n",
      "psnr:  inf\n",
      "HistCompare_correlation:  1.0\n",
      "HistCompare_chi_square:  0.0\n",
      "HistCompare_intersction:  2.6567213193775387\n",
      "HistCompare_bhat:  0.0\n"
     ]
    },
    {
     "name": "stderr",
     "output_type": "stream",
     "text": [
      "/home/ykaixin/Desktop/3244-2010-0023/eval_utils.py:28: RuntimeWarning: divide by zero encountered in double_scalars\n",
      "  return 10 * np.log10(1.0 / mse)\n"
     ]
    }
   ],
   "source": [
    "eval_print(\"# GREY\", imga, imgc, isPrint=True) #lapras\n",
    "eval_print('# RES', imgb, imgc, isPrint=True)\n",
    "eval_print('# IDENTITY', imgc, imgc, isPrint=True)"
   ]
  },
  {
   "cell_type": "code",
   "execution_count": 68,
   "metadata": {},
   "outputs": [
    {
     "name": "stdout",
     "output_type": "stream",
     "text": [
      "(128, 128, 3)\n",
      "\n",
      "final: -----\n",
      "correlation:  0.5829933606401203\n",
      "chi square:  2.502611822153056\n",
      "intersection:  0.910586618942034\n",
      "bhat:  0.6433603020743579\n",
      "(128, 128, 3)\n",
      "\n",
      "final: -----\n",
      "correlation:  0.6761029093037405\n",
      "chi square:  18.438723120202507\n",
      "intersection:  3.5513590974078397\n",
      "bhat:  0.646052749665574\n",
      "(128, 128, 3)\n",
      "\n",
      "final: -----\n",
      "correlation:  1.0\n",
      "chi square:  0.0\n",
      "intersection:  19.729487795928435\n",
      "bhat:  1.3170890159654386e-09\n"
     ]
    },
    {
     "data": {
      "text/plain": [
       "(1.0, 0.0, 19.729487795928435, 1.3170890159654386e-09)"
      ]
     },
     "execution_count": 68,
     "metadata": {},
     "output_type": "execute_result"
    }
   ],
   "source": [
    "spatialBinnedMetrics(imga, imgc)\n",
    "spatialBinnedMetrics(imgb, imgc)\n",
    "spatialBinnedMetrics(imgc, imgc)"
   ]
  },
  {
   "cell_type": "markdown",
   "metadata": {},
   "source": [
    "### omastar eg"
   ]
  },
  {
   "cell_type": "code",
   "execution_count": 71,
   "metadata": {},
   "outputs": [
    {
     "name": "stdout",
     "output_type": "stream",
     "text": [
      "# GREY -----\n",
      "ssim:  0.7252761177905016\n",
      "psnr:  -17.07368466403054\n",
      "HistCompare_correlation:  0.9419433496631583\n",
      "HistCompare_chi_square:  2.5156974559510497\n",
      "HistCompare_intersction:  1.0429204360116273\n",
      "HistCompare_bhat:  0.8077965836968405\n",
      "# RES -----\n",
      "ssim:  0.6166239172412861\n",
      "psnr:  -17.75498775918165\n",
      "HistCompare_correlation:  0.9738455166529804\n",
      "HistCompare_chi_square:  4.216496059741116\n",
      "HistCompare_intersction:  2.248602944659069\n",
      "HistCompare_bhat:  0.7030884770374259\n",
      "# IDENTITY -----\n",
      "ssim:  1.0\n",
      "psnr:  inf\n",
      "HistCompare_correlation:  1.0\n",
      "HistCompare_chi_square:  0.0\n",
      "HistCompare_intersction:  4.600954981986433\n",
      "HistCompare_bhat:  0.0\n"
     ]
    }
   ],
   "source": [
    "eval_print(\"# GREY\", imga, imgc, isPrint=True) #lapras\n",
    "eval_print('# RES', imgb, imgc, isPrint=True)\n",
    "eval_print('# IDENTITY', imgc, imgc, isPrint=True)"
   ]
  },
  {
   "cell_type": "code",
   "execution_count": 72,
   "metadata": {},
   "outputs": [
    {
     "name": "stdout",
     "output_type": "stream",
     "text": [
      "(128, 128, 3)\n",
      "\n",
      "final: -----\n",
      "correlation:  0.4927360056319909\n",
      "chi square:  3.1398632662665866\n",
      "intersection:  0.7159420598909492\n",
      "bhat:  0.791353331037506\n",
      "(128, 128, 3)\n",
      "\n",
      "final: -----\n",
      "correlation:  0.5462158243422287\n",
      "chi square:  26.33108481675287\n",
      "intersection:  2.43318929283123\n",
      "bhat:  0.7592025404135836\n",
      "(128, 128, 3)\n",
      "\n",
      "final: -----\n",
      "correlation:  1.0\n",
      "chi square:  0.0\n",
      "intersection:  20.549949389307585\n",
      "bhat:  1.3170890159654386e-09\n"
     ]
    },
    {
     "data": {
      "text/plain": [
       "(1.0, 0.0, 20.549949389307585, 1.3170890159654386e-09)"
      ]
     },
     "execution_count": 72,
     "metadata": {},
     "output_type": "execute_result"
    }
   ],
   "source": [
    "spatialBinnedMetrics(imga, imgc)\n",
    "spatialBinnedMetrics(imgb, imgc)\n",
    "spatialBinnedMetrics(imgc, imgc)"
   ]
  },
  {
   "cell_type": "markdown",
   "metadata": {},
   "source": [
    "### Dump"
   ]
  },
  {
   "cell_type": "code",
   "execution_count": 18,
   "metadata": {},
   "outputs": [
    {
     "name": "stdout",
     "output_type": "stream",
     "text": [
      "HistCompare_correlation:  1.0\n",
      "HistCompare_chi_square:  0.0\n",
      "HistCompare_intersction:  3.0995080839202274\n",
      "HistCompare_bhat:  0.0\n"
     ]
    }
   ],
   "source": [
    "computeMetrics(imga, imgb) #exact same ghastly"
   ]
  },
  {
   "cell_type": "code",
   "execution_count": 26,
   "metadata": {},
   "outputs": [
    {
     "name": "stdout",
     "output_type": "stream",
     "text": [
      "HistCompare_correlation:  1.0\n",
      "HistCompare_chi_square:  0.0\n",
      "HistCompare_intersction:  1.9458432234896463\n",
      "HistCompare_bhat:  1.0536712127723509e-08\n"
     ]
    }
   ],
   "source": [
    "computeMetrics(imga, imgb) #onix onix"
   ]
  },
  {
   "cell_type": "markdown",
   "metadata": {},
   "source": [
    "from here can see that intersection and bhat is not ideal cus dif values despite identity"
   ]
  },
  {
   "cell_type": "code",
   "execution_count": 20,
   "metadata": {},
   "outputs": [
    {
     "name": "stdout",
     "output_type": "stream",
     "text": [
      "HistCompare_correlation:  0.9799285476041358\n",
      "HistCompare_chi_square:  2.0154848364415345\n",
      "HistCompare_intersction:  1.0820836799575773\n",
      "HistCompare_bhat:  0.6975679657159936\n"
     ]
    }
   ],
   "source": [
    "computeMetrics(imga, imgb) #ghastly haunter"
   ]
  },
  {
   "cell_type": "code",
   "execution_count": 22,
   "metadata": {},
   "outputs": [
    {
     "name": "stdout",
     "output_type": "stream",
     "text": [
      "HistCompare_correlation:  0.9736436601484993\n",
      "HistCompare_chi_square:  2.1930900109101694\n",
      "HistCompare_intersction:  1.0864145131054102\n",
      "HistCompare_bhat:  0.758480429005484\n"
     ]
    }
   ],
   "source": [
    "computeMetrics(imga, imgb) #ghastly gengar"
   ]
  },
  {
   "cell_type": "code",
   "execution_count": 24,
   "metadata": {},
   "outputs": [
    {
     "name": "stdout",
     "output_type": "stream",
     "text": [
      "HistCompare_correlation:  0.9783083282890952\n",
      "HistCompare_chi_square:  2.4059933619973037\n",
      "HistCompare_intersction:  1.0692740663944278\n",
      "HistCompare_bhat:  0.7401755124697869\n"
     ]
    }
   ],
   "source": [
    "computeMetrics(imga, imgb) #ghastly onix"
   ]
  },
  {
   "cell_type": "code",
   "execution_count": 28,
   "metadata": {},
   "outputs": [
    {
     "name": "stdout",
     "output_type": "stream",
     "text": [
      "HistCompare_correlation:  0.969588566348377\n",
      "HistCompare_chi_square:  10.879578888325456\n",
      "HistCompare_intersction:  1.1577566423584358\n",
      "HistCompare_bhat:  0.7142052625568617\n"
     ]
    }
   ],
   "source": [
    "computeMetrics(imga, imgb) #ghastly mutant_drowzee"
   ]
  },
  {
   "cell_type": "markdown",
   "metadata": {},
   "source": [
    "chisq seems gd ah"
   ]
  },
  {
   "cell_type": "code",
   "execution_count": 34,
   "metadata": {},
   "outputs": [
    {
     "name": "stdout",
     "output_type": "stream",
     "text": [
      "HistCompare_correlation:  0.9767693072593291\n",
      "HistCompare_chi_square:  2.3627164266046816\n",
      "HistCompare_intersction:  1.129925356239255\n",
      "HistCompare_bhat:  0.7505798071510059\n"
     ]
    }
   ],
   "source": [
    "computeMetrics(imga, imgb) #ghastly caterpie"
   ]
  },
  {
   "cell_type": "markdown",
   "metadata": {},
   "source": [
    "# Dump (to ignore)"
   ]
  },
  {
   "cell_type": "code",
   "execution_count": 8,
   "metadata": {
    "jupyter": {
     "source_hidden": true
    }
   },
   "outputs": [],
   "source": [
    "def save_sample_image(test_length):\n",
    "    temp_dir = './temp'\n",
    "    itera = iter(a_test_loader)\n",
    "    iterb = iter(b_test_loader)\n",
    "    res = []\n",
    "    average_hist_score_correlation = 0.0\n",
    "    average_hist_score_chi_square = 0.0\n",
    "    average_hist_score_intersction = 0.0\n",
    "    average_hist_score_bhat = 0.0\n",
    "    for i in range(test_length):\n",
    "        a = itera.next()\n",
    "        b = iterb.next()\n",
    "        a_real_test = Variable(a[0], requires_grad=True)\n",
    "        b_real_test = Variable(b[0], requires_grad=True)\n",
    "        a_real_test, b_real_test = utils.cuda([a_real_test, b_real_test])\n",
    "        Gab.eval()\n",
    "        Gba.eval()\n",
    "\n",
    "        with torch.no_grad():\n",
    "            # a_fake_test = self.Gab(b_real_test)\n",
    "            b_fake_test = Gba(a_real_test)\n",
    "            # a_recon_test = self.Gab(b_fake_test)\n",
    "            # b_recon_test = self.Gba(a_fake_test)\n",
    "\n",
    "            res.extend([a_real_test, b_fake_test, b_real_test])\n",
    "\n",
    "            ##### Generate histogram similarity score\n",
    "            # Documentation: https://docs.opencv.org/3.4/d8/dc8/tutorial_histogram_comparison.html\n",
    "            torchvision.utils.save_image(b_fake_test.cpu(), temp_dir + '/model_output' + i + '.jpg')\n",
    "            torchvision.utils.save_image(b_real_test.cpu(), temp_dir + '/groundtruth' + i + '.jpg')\n",
    "            src_base = cv2.imread(temp_dir + '/groundtruth.jpg')\n",
    "            src_test1 = cv2.imread(temp_dir + '/model_output.jpg')\n",
    "            hsv_base = cv2.cvtColor(src_base, cv2.COLOR_BGR2HSV)\n",
    "            hsv_test1 = cv2.cvtColor(src_test1, cv2.COLOR_BGR2HSV)\n",
    "            h_bins = 50\n",
    "            s_bins = 60\n",
    "            v_bins = 60\n",
    "            histSize = [h_bins, s_bins, v_bins]\n",
    "            # hue varies from 0 to 179, saturation from 0 to 255, value from 0 to 255\n",
    "            h_ranges = [0, 180]\n",
    "            s_ranges = [0, 256]\n",
    "            v_ranges = [0, 256]\n",
    "            ranges = h_ranges + s_ranges + v_ranges# concat lists\n",
    "            # Use 0,1,2nd channels\n",
    "            channels = [0, 1, 2]\n",
    "            hist_base = cv2.calcHist([hsv_base], channels, None, histSize, ranges, accumulate=False)\n",
    "            cv2.normalize(hist_base, hist_base, alpha=0, beta=1, norm_type=cv2.NORM_MINMAX)\n",
    "            hist_test1 = cv2.calcHist([hsv_test1], channels, None, histSize, ranges, accumulate=False)\n",
    "            cv2.normalize(hist_test1, hist_test1, alpha=0, beta=1, norm_type=cv2.NORM_MINMAX)\n",
    "            # compare_method = {0: 'correlation', 1: 'chi-square', 2: 'intersection', 3: 'Bhattacharyya'}\n",
    "            corr = cv2.compareHist(hist_base, hist_test1, 0)\n",
    "            average_hist_score_correlation += corr\n",
    "            chisq = cv2.compareHist(hist_base, hist_test1, 1)\n",
    "            average_hist_score_chi_square += chisq\n",
    "            intersectn = cv2.compareHist(hist_base, hist_test1, 2)\n",
    "            average_hist_score_intersction += intersectn\n",
    "            bhat = cv2.compareHist(hist_base, hist_test1, 3)\n",
    "            average_hist_score_bhat += bhat\n",
    "            # os.remove(temp_dir + '/model_output.jpg')\n",
    "            # os.remove(temp_dir + '/groundtruth.jpg')\n",
    "            print('HistCompare_correlation: ', corr)\n",
    "            print('HistCompare_chi_square: ', chisq)\n",
    "            print('HistCompare_intersction: ', intersectn)\n",
    "            print('HistCompare_bhat: ', bhat)\n",
    "\n",
    "    print('aveHistCompare_correlation: ', average_hist_score_correlation / test_length)\n",
    "    print('aveHistCompare_chi_square: ', average_hist_score_chi_square / test_length)\n",
    "    print('aveHistCompare_intersction: ', average_hist_score_intersction / test_length)\n",
    "    print('aveHistCompare_bhat: ', average_hist_score_bhat / test_length)\n"
   ]
  },
  {
   "cell_type": "code",
   "execution_count": 9,
   "metadata": {
    "collapsed": true,
    "jupyter": {
     "outputs_hidden": true,
     "source_hidden": true
    }
   },
   "outputs": [
    {
     "ename": "TypeError",
     "evalue": "'NoneType' object is not iterable",
     "output_type": "error",
     "traceback": [
      "\u001b[0;31m---------------------------------------------------------------------------\u001b[0m",
      "\u001b[0;31mTypeError\u001b[0m                                 Traceback (most recent call last)",
      "\u001b[0;32m<ipython-input-9-6927e675f0b2>\u001b[0m in \u001b[0;36m<module>\u001b[0;34m\u001b[0m\n\u001b[0;32m----> 1\u001b[0;31m \u001b[0msave_sample_image\u001b[0m\u001b[0;34m(\u001b[0m\u001b[0;36m5\u001b[0m\u001b[0;34m)\u001b[0m\u001b[0;34m\u001b[0m\u001b[0;34m\u001b[0m\u001b[0m\n\u001b[0m",
      "\u001b[0;32m<ipython-input-8-4c1cc3a6909b>\u001b[0m in \u001b[0;36msave_sample_image\u001b[0;34m(test_length)\u001b[0m\n\u001b[1;32m     13\u001b[0m         \u001b[0ma_real_test\u001b[0m \u001b[0;34m=\u001b[0m \u001b[0mVariable\u001b[0m\u001b[0;34m(\u001b[0m\u001b[0ma\u001b[0m\u001b[0;34m[\u001b[0m\u001b[0;36m0\u001b[0m\u001b[0;34m]\u001b[0m\u001b[0;34m,\u001b[0m \u001b[0mrequires_grad\u001b[0m\u001b[0;34m=\u001b[0m\u001b[0;32mTrue\u001b[0m\u001b[0;34m)\u001b[0m\u001b[0;34m\u001b[0m\u001b[0;34m\u001b[0m\u001b[0m\n\u001b[1;32m     14\u001b[0m         \u001b[0mb_real_test\u001b[0m \u001b[0;34m=\u001b[0m \u001b[0mVariable\u001b[0m\u001b[0;34m(\u001b[0m\u001b[0mb\u001b[0m\u001b[0;34m[\u001b[0m\u001b[0;36m0\u001b[0m\u001b[0;34m]\u001b[0m\u001b[0;34m,\u001b[0m \u001b[0mrequires_grad\u001b[0m\u001b[0;34m=\u001b[0m\u001b[0;32mTrue\u001b[0m\u001b[0;34m)\u001b[0m\u001b[0;34m\u001b[0m\u001b[0;34m\u001b[0m\u001b[0m\n\u001b[0;32m---> 15\u001b[0;31m         \u001b[0ma_real_test\u001b[0m\u001b[0;34m,\u001b[0m \u001b[0mb_real_test\u001b[0m \u001b[0;34m=\u001b[0m \u001b[0mutils\u001b[0m\u001b[0;34m.\u001b[0m\u001b[0mcuda\u001b[0m\u001b[0;34m(\u001b[0m\u001b[0;34m[\u001b[0m\u001b[0ma_real_test\u001b[0m\u001b[0;34m,\u001b[0m \u001b[0mb_real_test\u001b[0m\u001b[0;34m]\u001b[0m\u001b[0;34m)\u001b[0m\u001b[0;34m\u001b[0m\u001b[0;34m\u001b[0m\u001b[0m\n\u001b[0m\u001b[1;32m     16\u001b[0m         \u001b[0mGab\u001b[0m\u001b[0;34m.\u001b[0m\u001b[0meval\u001b[0m\u001b[0;34m(\u001b[0m\u001b[0;34m)\u001b[0m\u001b[0;34m\u001b[0m\u001b[0;34m\u001b[0m\u001b[0m\n\u001b[1;32m     17\u001b[0m         \u001b[0mGba\u001b[0m\u001b[0;34m.\u001b[0m\u001b[0meval\u001b[0m\u001b[0;34m(\u001b[0m\u001b[0;34m)\u001b[0m\u001b[0;34m\u001b[0m\u001b[0;34m\u001b[0m\u001b[0m\n",
      "\u001b[0;31mTypeError\u001b[0m: 'NoneType' object is not iterable"
     ]
    }
   ],
   "source": [
    "save_sample_image(5)"
   ]
  }
 ],
 "metadata": {
  "kernelspec": {
   "display_name": "Python 3",
   "language": "python",
   "name": "python3"
  },
  "language_info": {
   "codemirror_mode": {
    "name": "ipython",
    "version": 3
   },
   "file_extension": ".py",
   "mimetype": "text/x-python",
   "name": "python",
   "nbconvert_exporter": "python",
   "pygments_lexer": "ipython3",
   "version": "3.7.7"
  }
 },
 "nbformat": 4,
 "nbformat_minor": 2
}
